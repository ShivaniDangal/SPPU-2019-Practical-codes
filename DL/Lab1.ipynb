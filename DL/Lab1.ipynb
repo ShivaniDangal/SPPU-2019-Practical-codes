{
 "cells": [
  {
   "cell_type": "markdown",
   "id": "b41cbb07",
   "metadata": {},
   "source": [
    "##### Problem Statement: \n",
    "    \n",
    "Linear regression by using Deep Neural network: Implement Boston housing price prediction\n",
    "problem by Linear regression using Deep Neural network. Use Boston House price prediction\n",
    "dataset"
   ]
  },
  {
   "cell_type": "code",
   "execution_count": 1,
   "id": "dec08729",
   "metadata": {
    "id": "dec08729"
   },
   "outputs": [],
   "source": [
    "import tensorflow as tf\n",
    "import pandas as pd\n",
    "from tensorflow.keras.datasets import boston_housing\n",
    "from sklearn import preprocessing"
   ]
  },
  {
   "cell_type": "markdown",
   "id": "86636cd6",
   "metadata": {},
   "source": [
    "## Load and split the dataset into training and testing"
   ]
  },
  {
   "cell_type": "code",
   "execution_count": 2,
   "id": "d857ed5f",
   "metadata": {
    "colab": {
     "base_uri": "https://localhost:8080/"
    },
    "id": "d857ed5f",
    "outputId": "fad0e651-17f9-462c-9436-dec027a1e66b"
   },
   "outputs": [
    {
     "name": "stdout",
     "output_type": "stream",
     "text": [
      "Downloading data from https://storage.googleapis.com/tensorflow/tf-keras-datasets/boston_housing.npz\n",
      "57026/57026 [==============================] - 0s 0us/step\n"
     ]
    }
   ],
   "source": [
    "(train_x,train_y),(test_x,test_y)=boston_housing.load_data()"
   ]
  },
  {
   "cell_type": "code",
   "execution_count": 3,
   "id": "6a7f0219",
   "metadata": {
    "colab": {
     "base_uri": "https://localhost:8080/"
    },
    "id": "6a7f0219",
    "outputId": "f8c137df-3b40-4658-9492-e8b64b8bb9f1"
   },
   "outputs": [
    {
     "data": {
      "text/plain": [
       "((array([[1.23247e+00, 0.00000e+00, 8.14000e+00, ..., 2.10000e+01,\n",
       "          3.96900e+02, 1.87200e+01],\n",
       "         [2.17700e-02, 8.25000e+01, 2.03000e+00, ..., 1.47000e+01,\n",
       "          3.95380e+02, 3.11000e+00],\n",
       "         [4.89822e+00, 0.00000e+00, 1.81000e+01, ..., 2.02000e+01,\n",
       "          3.75520e+02, 3.26000e+00],\n",
       "         ...,\n",
       "         [3.46600e-02, 3.50000e+01, 6.06000e+00, ..., 1.69000e+01,\n",
       "          3.62250e+02, 7.83000e+00],\n",
       "         [2.14918e+00, 0.00000e+00, 1.95800e+01, ..., 1.47000e+01,\n",
       "          2.61950e+02, 1.57900e+01],\n",
       "         [1.43900e-02, 6.00000e+01, 2.93000e+00, ..., 1.56000e+01,\n",
       "          3.76700e+02, 4.38000e+00]]),\n",
       "  array([15.2, 42.3, 50. , 21.1, 17.7, 18.5, 11.3, 15.6, 15.6, 14.4, 12.1,\n",
       "         17.9, 23.1, 19.9, 15.7,  8.8, 50. , 22.5, 24.1, 27.5, 10.9, 30.8,\n",
       "         32.9, 24. , 18.5, 13.3, 22.9, 34.7, 16.6, 17.5, 22.3, 16.1, 14.9,\n",
       "         23.1, 34.9, 25. , 13.9, 13.1, 20.4, 20. , 15.2, 24.7, 22.2, 16.7,\n",
       "         12.7, 15.6, 18.4, 21. , 30.1, 15.1, 18.7,  9.6, 31.5, 24.8, 19.1,\n",
       "         22. , 14.5, 11. , 32. , 29.4, 20.3, 24.4, 14.6, 19.5, 14.1, 14.3,\n",
       "         15.6, 10.5,  6.3, 19.3, 19.3, 13.4, 36.4, 17.8, 13.5, 16.5,  8.3,\n",
       "         14.3, 16. , 13.4, 28.6, 43.5, 20.2, 22. , 23. , 20.7, 12.5, 48.5,\n",
       "         14.6, 13.4, 23.7, 50. , 21.7, 39.8, 38.7, 22.2, 34.9, 22.5, 31.1,\n",
       "         28.7, 46. , 41.7, 21. , 26.6, 15. , 24.4, 13.3, 21.2, 11.7, 21.7,\n",
       "         19.4, 50. , 22.8, 19.7, 24.7, 36.2, 14.2, 18.9, 18.3, 20.6, 24.6,\n",
       "         18.2,  8.7, 44. , 10.4, 13.2, 21.2, 37. , 30.7, 22.9, 20. , 19.3,\n",
       "         31.7, 32. , 23.1, 18.8, 10.9, 50. , 19.6,  5. , 14.4, 19.8, 13.8,\n",
       "         19.6, 23.9, 24.5, 25. , 19.9, 17.2, 24.6, 13.5, 26.6, 21.4, 11.9,\n",
       "         22.6, 19.6,  8.5, 23.7, 23.1, 22.4, 20.5, 23.6, 18.4, 35.2, 23.1,\n",
       "         27.9, 20.6, 23.7, 28. , 13.6, 27.1, 23.6, 20.6, 18.2, 21.7, 17.1,\n",
       "          8.4, 25.3, 13.8, 22.2, 18.4, 20.7, 31.6, 30.5, 20.3,  8.8, 19.2,\n",
       "         19.4, 23.1, 23. , 14.8, 48.8, 22.6, 33.4, 21.1, 13.6, 32.2, 13.1,\n",
       "         23.4, 18.9, 23.9, 11.8, 23.3, 22.8, 19.6, 16.7, 13.4, 22.2, 20.4,\n",
       "         21.8, 26.4, 14.9, 24.1, 23.8, 12.3, 29.1, 21. , 19.5, 23.3, 23.8,\n",
       "         17.8, 11.5, 21.7, 19.9, 25. , 33.4, 28.5, 21.4, 24.3, 27.5, 33.1,\n",
       "         16.2, 23.3, 48.3, 22.9, 22.8, 13.1, 12.7, 22.6, 15. , 15.3, 10.5,\n",
       "         24. , 18.5, 21.7, 19.5, 33.2, 23.2,  5. , 19.1, 12.7, 22.3, 10.2,\n",
       "         13.9, 16.3, 17. , 20.1, 29.9, 17.2, 37.3, 45.4, 17.8, 23.2, 29. ,\n",
       "         22. , 18. , 17.4, 34.6, 20.1, 25. , 15.6, 24.8, 28.2, 21.2, 21.4,\n",
       "         23.8, 31. , 26.2, 17.4, 37.9, 17.5, 20. ,  8.3, 23.9,  8.4, 13.8,\n",
       "          7.2, 11.7, 17.1, 21.6, 50. , 16.1, 20.4, 20.6, 21.4, 20.6, 36.5,\n",
       "          8.5, 24.8, 10.8, 21.9, 17.3, 18.9, 36.2, 14.9, 18.2, 33.3, 21.8,\n",
       "         19.7, 31.6, 24.8, 19.4, 22.8,  7.5, 44.8, 16.8, 18.7, 50. , 50. ,\n",
       "         19.5, 20.1, 50. , 17.2, 20.8, 19.3, 41.3, 20.4, 20.5, 13.8, 16.5,\n",
       "         23.9, 20.6, 31.5, 23.3, 16.8, 14. , 33.8, 36.1, 12.8, 18.3, 18.7,\n",
       "         19.1, 29. , 30.1, 50. , 50. , 22. , 11.9, 37.6, 50. , 22.7, 20.8,\n",
       "         23.5, 27.9, 50. , 19.3, 23.9, 22.6, 15.2, 21.7, 19.2, 43.8, 20.3,\n",
       "         33.2, 19.9, 22.5, 32.7, 22. , 17.1, 19. , 15. , 16.1, 25.1, 23.7,\n",
       "         28.7, 37.2, 22.6, 16.4, 25. , 29.8, 22.1, 17.4, 18.1, 30.3, 17.5,\n",
       "         24.7, 12.6, 26.5, 28.7, 13.3, 10.4, 24.4, 23. , 20. , 17.8,  7. ,\n",
       "         11.8, 24.4, 13.8, 19.4, 25.2, 19.4, 19.4, 29.1])),\n",
       " (array([[1.80846e+01, 0.00000e+00, 1.81000e+01, ..., 2.02000e+01,\n",
       "          2.72500e+01, 2.90500e+01],\n",
       "         [1.23290e-01, 0.00000e+00, 1.00100e+01, ..., 1.78000e+01,\n",
       "          3.94950e+02, 1.62100e+01],\n",
       "         [5.49700e-02, 0.00000e+00, 5.19000e+00, ..., 2.02000e+01,\n",
       "          3.96900e+02, 9.74000e+00],\n",
       "         ...,\n",
       "         [1.83377e+00, 0.00000e+00, 1.95800e+01, ..., 1.47000e+01,\n",
       "          3.89610e+02, 1.92000e+00],\n",
       "         [3.58090e-01, 0.00000e+00, 6.20000e+00, ..., 1.74000e+01,\n",
       "          3.91700e+02, 9.71000e+00],\n",
       "         [2.92400e+00, 0.00000e+00, 1.95800e+01, ..., 1.47000e+01,\n",
       "          2.40160e+02, 9.81000e+00]]),\n",
       "  array([ 7.2, 18.8, 19. , 27. , 22.2, 24.5, 31.2, 22.9, 20.5, 23.2, 18.6,\n",
       "         14.5, 17.8, 50. , 20.8, 24.3, 24.2, 19.8, 19.1, 22.7, 12. , 10.2,\n",
       "         20. , 18.5, 20.9, 23. , 27.5, 30.1,  9.5, 22. , 21.2, 14.1, 33.1,\n",
       "         23.4, 20.1,  7.4, 15.4, 23.8, 20.1, 24.5, 33. , 28.4, 14.1, 46.7,\n",
       "         32.5, 29.6, 28.4, 19.8, 20.2, 25. , 35.4, 20.3,  9.7, 14.5, 34.9,\n",
       "         26.6,  7.2, 50. , 32.4, 21.6, 29.8, 13.1, 27.5, 21.2, 23.1, 21.9,\n",
       "         13. , 23.2,  8.1,  5.6, 21.7, 29.6, 19.6,  7. , 26.4, 18.9, 20.9,\n",
       "         28.1, 35.4, 10.2, 24.3, 43.1, 17.6, 15.4, 16.2, 27.1, 21.4, 21.5,\n",
       "         22.4, 25. , 16.6, 18.6, 22. , 42.8, 35.1, 21.5, 36. , 21.9, 24.1,\n",
       "         50. , 26.7, 25. ])))"
      ]
     },
     "execution_count": 3,
     "metadata": {},
     "output_type": "execute_result"
    }
   ],
   "source": [
    "df = boston_housing.load_data()\n",
    "df"
   ]
  },
  {
   "cell_type": "markdown",
   "id": "02129527",
   "metadata": {},
   "source": [
    "## Training and testing datasets size"
   ]
  },
  {
   "cell_type": "code",
   "execution_count": 4,
   "id": "c664161b",
   "metadata": {
    "colab": {
     "base_uri": "https://localhost:8080/"
    },
    "id": "c664161b",
    "outputId": "a09f65ad-8923-438e-9f78-d80a7463258d"
   },
   "outputs": [
    {
     "name": "stdout",
     "output_type": "stream",
     "text": [
      "train shape:  (404, 13)\n",
      "test shape:  (102, 13)\n",
      "actual train output: (404,)\n",
      "actual test output: (102,)\n"
     ]
    }
   ],
   "source": [
    "print(\"train shape: \",train_x.shape)\n",
    "print(\"test shape: \",test_x.shape)\n",
    "print(\"actual train output:\",train_y.shape)\n",
    "print(\"actual test output:\",test_y.shape)"
   ]
  },
  {
   "cell_type": "markdown",
   "id": "63745881",
   "metadata": {},
   "source": [
    "## Normalization"
   ]
  },
  {
   "cell_type": "code",
   "execution_count": 5,
   "id": "3e6cd10e",
   "metadata": {
    "id": "3e6cd10e"
   },
   "outputs": [],
   "source": [
    "#normalization for preprocessing\n",
    "train_x=preprocessing.normalize(train_x)\n",
    "test_x=preprocessing.normalize(test_x)"
   ]
  },
  {
   "cell_type": "markdown",
   "id": "27d88496",
   "metadata": {},
   "source": [
    "## Deep Neural Network"
   ]
  },
  {
   "cell_type": "code",
   "execution_count": 8,
   "id": "c1c3fcb3",
   "metadata": {
    "id": "c1c3fcb3"
   },
   "outputs": [],
   "source": [
    "from tensorflow.keras.models import Sequential\n",
    "from tensorflow.keras.layers import *\n",
    "def HousePricePredictionModel():\n",
    "\tmodel=Sequential()\n",
    "\tmodel.add(Dense(128,activation='relu',input_shape=(train_x[0].shape)))\n",
    "\tmodel.add(Dense(64,activation='relu'))\n",
    "\tmodel.add(Dense(32,activation='relu'))\n",
    "\tmodel.add(Dense(1))\n",
    "\tmodel.compile(optimizer='adam',loss='mse',metrics=['mae'])\n",
    "\treturn model"
   ]
  },
  {
   "cell_type": "code",
   "execution_count": 9,
   "id": "d55cfd2b",
   "metadata": {
    "id": "d55cfd2b"
   },
   "outputs": [],
   "source": [
    "import numpy as np\n",
    "k=4\n",
    "num_val_samples=len(train_x)\n",
    "num_epochs=100#you can reduce this as per need to reduce the training time\n",
    "all_scores=[]"
   ]
  },
  {
   "cell_type": "code",
   "execution_count": 10,
   "id": "d96f40b9",
   "metadata": {
    "colab": {
     "base_uri": "https://localhost:8080/"
    },
    "id": "d96f40b9",
    "outputId": "dfd12297-cf34-4848-9e28-24e25b6fda99"
   },
   "outputs": [
    {
     "name": "stdout",
     "output_type": "stream",
     "text": [
      "Epoch 1/100\n",
      "404/404 [==============================] - 3s 3ms/step - loss: 139.6844 - mae: 8.5873 - val_loss: 66.2541 - val_mae: 5.8033\n",
      "Epoch 2/100\n",
      "404/404 [==============================] - 1s 2ms/step - loss: 65.7526 - mae: 5.7273 - val_loss: 57.8037 - val_mae: 5.5534\n",
      "Epoch 3/100\n",
      "404/404 [==============================] - 1s 3ms/step - loss: 61.7790 - mae: 5.3942 - val_loss: 58.5631 - val_mae: 5.9108\n",
      "Epoch 4/100\n",
      "404/404 [==============================] - 1s 3ms/step - loss: 58.8749 - mae: 5.3548 - val_loss: 53.6930 - val_mae: 5.3587\n",
      "Epoch 5/100\n",
      "404/404 [==============================] - 1s 2ms/step - loss: 57.3660 - mae: 5.2268 - val_loss: 53.4974 - val_mae: 5.2815\n",
      "Epoch 6/100\n",
      "404/404 [==============================] - 1s 2ms/step - loss: 56.6077 - mae: 5.1318 - val_loss: 53.2649 - val_mae: 5.2029\n",
      "Epoch 7/100\n",
      "404/404 [==============================] - 1s 3ms/step - loss: 52.1337 - mae: 4.8933 - val_loss: 57.4703 - val_mae: 5.3145\n",
      "Epoch 8/100\n",
      "404/404 [==============================] - 1s 2ms/step - loss: 51.6177 - mae: 4.8872 - val_loss: 48.2826 - val_mae: 5.0943\n",
      "Epoch 9/100\n",
      "404/404 [==============================] - 1s 2ms/step - loss: 48.7674 - mae: 4.8014 - val_loss: 51.8879 - val_mae: 5.0388\n",
      "Epoch 10/100\n",
      "404/404 [==============================] - 1s 2ms/step - loss: 47.8462 - mae: 4.6847 - val_loss: 44.3050 - val_mae: 4.6608\n",
      "Epoch 11/100\n",
      "404/404 [==============================] - 1s 3ms/step - loss: 45.5787 - mae: 4.6187 - val_loss: 44.2580 - val_mae: 4.9479\n",
      "Epoch 12/100\n",
      "404/404 [==============================] - 1s 3ms/step - loss: 43.2873 - mae: 4.5639 - val_loss: 45.2498 - val_mae: 4.6710\n",
      "Epoch 13/100\n",
      "404/404 [==============================] - 1s 3ms/step - loss: 40.8542 - mae: 4.4386 - val_loss: 39.0888 - val_mae: 4.5541\n",
      "Epoch 14/100\n",
      "404/404 [==============================] - 1s 3ms/step - loss: 40.0384 - mae: 4.4010 - val_loss: 44.5805 - val_mae: 5.3867\n",
      "Epoch 15/100\n",
      "404/404 [==============================] - 1s 2ms/step - loss: 36.9876 - mae: 4.2262 - val_loss: 35.6923 - val_mae: 4.1988\n",
      "Epoch 16/100\n",
      "404/404 [==============================] - 1s 2ms/step - loss: 37.7227 - mae: 4.2190 - val_loss: 34.4649 - val_mae: 4.2127\n",
      "Epoch 17/100\n",
      "404/404 [==============================] - 1s 2ms/step - loss: 35.1391 - mae: 4.2179 - val_loss: 34.6128 - val_mae: 4.0651\n",
      "Epoch 18/100\n",
      "404/404 [==============================] - 1s 2ms/step - loss: 35.2250 - mae: 4.1931 - val_loss: 33.0240 - val_mae: 4.0081\n",
      "Epoch 19/100\n",
      "404/404 [==============================] - 1s 2ms/step - loss: 33.3215 - mae: 4.0598 - val_loss: 31.7627 - val_mae: 3.9356\n",
      "Epoch 20/100\n",
      "404/404 [==============================] - 1s 3ms/step - loss: 30.9138 - mae: 3.8851 - val_loss: 30.2921 - val_mae: 4.0984\n",
      "Epoch 21/100\n",
      "404/404 [==============================] - 1s 3ms/step - loss: 31.8503 - mae: 4.0074 - val_loss: 30.3128 - val_mae: 4.1380\n",
      "Epoch 22/100\n",
      "404/404 [==============================] - 1s 3ms/step - loss: 30.5035 - mae: 4.0197 - val_loss: 30.9886 - val_mae: 3.8872\n",
      "Epoch 23/100\n",
      "404/404 [==============================] - 1s 3ms/step - loss: 29.1061 - mae: 3.8845 - val_loss: 30.9667 - val_mae: 3.8756\n",
      "Epoch 24/100\n",
      "404/404 [==============================] - 1s 3ms/step - loss: 28.6277 - mae: 3.8821 - val_loss: 31.5365 - val_mae: 3.9467\n",
      "Epoch 25/100\n",
      "404/404 [==============================] - 2s 4ms/step - loss: 28.1298 - mae: 3.8175 - val_loss: 29.2484 - val_mae: 4.1350\n",
      "Epoch 26/100\n",
      "404/404 [==============================] - 1s 2ms/step - loss: 28.0828 - mae: 3.8502 - val_loss: 31.4603 - val_mae: 4.4206\n",
      "Epoch 27/100\n",
      "404/404 [==============================] - 1s 2ms/step - loss: 26.2354 - mae: 3.7125 - val_loss: 29.5473 - val_mae: 3.8715\n",
      "Epoch 28/100\n",
      "404/404 [==============================] - 1s 2ms/step - loss: 23.9342 - mae: 3.6024 - val_loss: 29.2742 - val_mae: 3.9101\n",
      "Epoch 29/100\n",
      "404/404 [==============================] - 1s 2ms/step - loss: 23.7099 - mae: 3.5479 - val_loss: 29.9760 - val_mae: 4.2116\n",
      "Epoch 30/100\n",
      "404/404 [==============================] - 1s 2ms/step - loss: 21.2289 - mae: 3.3233 - val_loss: 31.4545 - val_mae: 4.0033\n",
      "Epoch 31/100\n",
      "404/404 [==============================] - 1s 2ms/step - loss: 22.0898 - mae: 3.4215 - val_loss: 33.6136 - val_mae: 4.1123\n",
      "Epoch 32/100\n",
      "404/404 [==============================] - 1s 2ms/step - loss: 19.5177 - mae: 3.2808 - val_loss: 32.1788 - val_mae: 4.0460\n",
      "Epoch 33/100\n",
      "404/404 [==============================] - 1s 3ms/step - loss: 20.2066 - mae: 3.3139 - val_loss: 34.7419 - val_mae: 4.1828\n",
      "Epoch 34/100\n",
      "404/404 [==============================] - 1s 2ms/step - loss: 21.2130 - mae: 3.3659 - val_loss: 28.2887 - val_mae: 3.8282\n",
      "Epoch 35/100\n",
      "404/404 [==============================] - 1s 2ms/step - loss: 19.8260 - mae: 3.2300 - val_loss: 29.2456 - val_mae: 3.7950\n",
      "Epoch 36/100\n",
      "404/404 [==============================] - 1s 2ms/step - loss: 19.5213 - mae: 3.2385 - val_loss: 46.0844 - val_mae: 4.8241\n",
      "Epoch 37/100\n",
      "404/404 [==============================] - 1s 4ms/step - loss: 19.6909 - mae: 3.2206 - val_loss: 34.7112 - val_mae: 4.1720\n",
      "Epoch 38/100\n",
      "404/404 [==============================] - 2s 4ms/step - loss: 20.2894 - mae: 3.2530 - val_loss: 31.0443 - val_mae: 3.8898\n",
      "Epoch 39/100\n",
      "404/404 [==============================] - 1s 2ms/step - loss: 18.9537 - mae: 3.1762 - val_loss: 35.8897 - val_mae: 4.3563\n",
      "Epoch 40/100\n",
      "404/404 [==============================] - 1s 2ms/step - loss: 18.8238 - mae: 3.1746 - val_loss: 28.8498 - val_mae: 3.8584\n",
      "Epoch 41/100\n",
      "404/404 [==============================] - 1s 2ms/step - loss: 18.9777 - mae: 3.1144 - val_loss: 35.5675 - val_mae: 4.1557\n",
      "Epoch 42/100\n",
      "404/404 [==============================] - 1s 2ms/step - loss: 17.2725 - mae: 3.0816 - val_loss: 33.8720 - val_mae: 4.1142\n",
      "Epoch 43/100\n",
      "404/404 [==============================] - 1s 2ms/step - loss: 17.3385 - mae: 3.0394 - val_loss: 33.9167 - val_mae: 4.0047\n",
      "Epoch 44/100\n",
      "404/404 [==============================] - 1s 2ms/step - loss: 17.9823 - mae: 3.1076 - val_loss: 35.6063 - val_mae: 4.4211\n",
      "Epoch 45/100\n",
      "404/404 [==============================] - 1s 2ms/step - loss: 18.7813 - mae: 3.1403 - val_loss: 33.8799 - val_mae: 4.0014\n",
      "Epoch 46/100\n",
      "404/404 [==============================] - 1s 2ms/step - loss: 19.7309 - mae: 3.1662 - val_loss: 30.0371 - val_mae: 3.7676\n",
      "Epoch 47/100\n",
      "404/404 [==============================] - 1s 2ms/step - loss: 19.1603 - mae: 3.1234 - val_loss: 29.5985 - val_mae: 3.7850\n",
      "Epoch 48/100\n",
      "404/404 [==============================] - 1s 3ms/step - loss: 16.7758 - mae: 3.0040 - val_loss: 31.1989 - val_mae: 3.7751\n",
      "Epoch 49/100\n",
      "404/404 [==============================] - 1s 2ms/step - loss: 18.4765 - mae: 3.1412 - val_loss: 31.1782 - val_mae: 3.8000\n",
      "Epoch 50/100\n",
      "404/404 [==============================] - 1s 2ms/step - loss: 17.4236 - mae: 3.0596 - val_loss: 28.6617 - val_mae: 3.8435\n",
      "Epoch 51/100\n",
      "404/404 [==============================] - 1s 3ms/step - loss: 17.1310 - mae: 2.9677 - val_loss: 31.3099 - val_mae: 4.1858\n",
      "Epoch 52/100\n",
      "404/404 [==============================] - 1s 4ms/step - loss: 17.1076 - mae: 3.0230 - val_loss: 34.1935 - val_mae: 3.9484\n",
      "Epoch 53/100\n",
      "404/404 [==============================] - 1s 2ms/step - loss: 16.8486 - mae: 2.9813 - val_loss: 30.6927 - val_mae: 3.7960\n",
      "Epoch 54/100\n",
      "404/404 [==============================] - 1s 2ms/step - loss: 16.8180 - mae: 3.0190 - val_loss: 31.5037 - val_mae: 3.8537\n",
      "Epoch 55/100\n",
      "404/404 [==============================] - 1s 2ms/step - loss: 17.5130 - mae: 3.0419 - val_loss: 34.8579 - val_mae: 4.0179\n",
      "Epoch 56/100\n",
      "404/404 [==============================] - 1s 2ms/step - loss: 16.4343 - mae: 2.8955 - val_loss: 45.9891 - val_mae: 4.9806\n",
      "Epoch 57/100\n",
      "404/404 [==============================] - 1s 2ms/step - loss: 17.5743 - mae: 2.9745 - val_loss: 31.1814 - val_mae: 3.8031\n",
      "Epoch 58/100\n",
      "404/404 [==============================] - 1s 2ms/step - loss: 16.3091 - mae: 2.9856 - val_loss: 28.0443 - val_mae: 3.6293\n",
      "Epoch 59/100\n",
      "404/404 [==============================] - 1s 2ms/step - loss: 16.0471 - mae: 2.9042 - val_loss: 30.6101 - val_mae: 3.7870\n",
      "Epoch 60/100\n",
      "404/404 [==============================] - 1s 2ms/step - loss: 16.9673 - mae: 3.0435 - val_loss: 30.4220 - val_mae: 3.8094\n",
      "Epoch 61/100\n",
      "404/404 [==============================] - 1s 2ms/step - loss: 16.7450 - mae: 2.9270 - val_loss: 27.0435 - val_mae: 3.6143\n",
      "Epoch 62/100\n",
      "404/404 [==============================] - 1s 2ms/step - loss: 16.8930 - mae: 2.9297 - val_loss: 28.1628 - val_mae: 3.6455\n",
      "Epoch 63/100\n",
      "404/404 [==============================] - 1s 2ms/step - loss: 17.1442 - mae: 3.0119 - val_loss: 31.9168 - val_mae: 3.8505\n",
      "Epoch 64/100\n",
      "404/404 [==============================] - 1s 3ms/step - loss: 16.7831 - mae: 2.9127 - val_loss: 28.5501 - val_mae: 3.7080\n",
      "Epoch 65/100\n",
      "404/404 [==============================] - 2s 4ms/step - loss: 17.0567 - mae: 3.0626 - val_loss: 30.1805 - val_mae: 3.7372\n",
      "Epoch 66/100\n",
      "404/404 [==============================] - 1s 3ms/step - loss: 16.2830 - mae: 2.8535 - val_loss: 40.2620 - val_mae: 4.4989\n",
      "Epoch 67/100\n",
      "404/404 [==============================] - 1s 2ms/step - loss: 16.7765 - mae: 2.9755 - val_loss: 31.4046 - val_mae: 3.9202\n",
      "Epoch 68/100\n",
      "404/404 [==============================] - 1s 2ms/step - loss: 15.2132 - mae: 2.8428 - val_loss: 27.7621 - val_mae: 3.6416\n",
      "Epoch 69/100\n",
      "404/404 [==============================] - 1s 2ms/step - loss: 17.0029 - mae: 2.8635 - val_loss: 31.2783 - val_mae: 3.8362\n",
      "Epoch 70/100\n",
      "404/404 [==============================] - 1s 2ms/step - loss: 15.2856 - mae: 2.8629 - val_loss: 27.6861 - val_mae: 3.6937\n",
      "Epoch 71/100\n",
      "404/404 [==============================] - 1s 2ms/step - loss: 16.9609 - mae: 3.0035 - val_loss: 25.9770 - val_mae: 3.5508\n",
      "Epoch 72/100\n",
      "404/404 [==============================] - 1s 2ms/step - loss: 17.1380 - mae: 2.9727 - val_loss: 28.3607 - val_mae: 3.6570\n",
      "Epoch 73/100\n",
      "404/404 [==============================] - 1s 2ms/step - loss: 14.8837 - mae: 2.7603 - val_loss: 33.1651 - val_mae: 3.9771\n",
      "Epoch 74/100\n",
      "404/404 [==============================] - 1s 2ms/step - loss: 15.9126 - mae: 2.9376 - val_loss: 29.6139 - val_mae: 3.6603\n",
      "Epoch 75/100\n",
      "404/404 [==============================] - 1s 2ms/step - loss: 17.3253 - mae: 2.9759 - val_loss: 29.1000 - val_mae: 3.7851\n",
      "Epoch 76/100\n",
      "404/404 [==============================] - 1s 2ms/step - loss: 14.9253 - mae: 2.7904 - val_loss: 37.2618 - val_mae: 4.3492\n",
      "Epoch 77/100\n",
      "404/404 [==============================] - 1s 2ms/step - loss: 16.8150 - mae: 2.9453 - val_loss: 26.4421 - val_mae: 3.5524\n",
      "Epoch 78/100\n",
      "404/404 [==============================] - 1s 3ms/step - loss: 15.8372 - mae: 2.8926 - val_loss: 27.4245 - val_mae: 3.5604\n",
      "Epoch 79/100\n",
      "404/404 [==============================] - 1s 3ms/step - loss: 16.4134 - mae: 2.9015 - val_loss: 29.1009 - val_mae: 3.6888\n",
      "Epoch 80/100\n",
      "404/404 [==============================] - 1s 4ms/step - loss: 18.1823 - mae: 2.9917 - val_loss: 29.7491 - val_mae: 3.8916\n",
      "Epoch 81/100\n",
      "404/404 [==============================] - 1s 2ms/step - loss: 15.9842 - mae: 2.9245 - val_loss: 31.6420 - val_mae: 3.8254\n",
      "Epoch 82/100\n",
      "404/404 [==============================] - 1s 2ms/step - loss: 14.7748 - mae: 2.7677 - val_loss: 29.5725 - val_mae: 3.6582\n",
      "Epoch 83/100\n",
      "404/404 [==============================] - 1s 3ms/step - loss: 15.3869 - mae: 2.8370 - val_loss: 32.7681 - val_mae: 3.7727\n",
      "Epoch 84/100\n",
      "404/404 [==============================] - 1s 3ms/step - loss: 16.7491 - mae: 2.9124 - val_loss: 27.3709 - val_mae: 3.8820\n",
      "Epoch 85/100\n",
      "404/404 [==============================] - 1s 2ms/step - loss: 16.2806 - mae: 2.8692 - val_loss: 30.6872 - val_mae: 3.6836\n",
      "Epoch 86/100\n",
      "404/404 [==============================] - 1s 3ms/step - loss: 16.4072 - mae: 2.8774 - val_loss: 30.5372 - val_mae: 3.7014\n",
      "Epoch 87/100\n",
      "404/404 [==============================] - 1s 2ms/step - loss: 15.8620 - mae: 2.8370 - val_loss: 30.5163 - val_mae: 3.7612\n",
      "Epoch 88/100\n",
      "404/404 [==============================] - 1s 2ms/step - loss: 15.0166 - mae: 2.7919 - val_loss: 33.5693 - val_mae: 4.0207\n",
      "Epoch 89/100\n",
      "404/404 [==============================] - 1s 2ms/step - loss: 15.7469 - mae: 2.9248 - val_loss: 32.5971 - val_mae: 3.7938\n",
      "Epoch 90/100\n",
      "404/404 [==============================] - 1s 2ms/step - loss: 14.1594 - mae: 2.6777 - val_loss: 30.5607 - val_mae: 4.0336\n",
      "Epoch 91/100\n",
      "404/404 [==============================] - 1s 3ms/step - loss: 15.4169 - mae: 2.8474 - val_loss: 33.2426 - val_mae: 3.8262\n",
      "Epoch 92/100\n",
      "404/404 [==============================] - 2s 4ms/step - loss: 14.7755 - mae: 2.7995 - val_loss: 31.4744 - val_mae: 4.1029\n",
      "Epoch 93/100\n",
      "404/404 [==============================] - 1s 4ms/step - loss: 15.8778 - mae: 2.8766 - val_loss: 27.9853 - val_mae: 3.5557\n",
      "Epoch 94/100\n",
      "404/404 [==============================] - 1s 2ms/step - loss: 15.4477 - mae: 2.7690 - val_loss: 30.9687 - val_mae: 3.7960\n",
      "Epoch 95/100\n",
      "404/404 [==============================] - 1s 3ms/step - loss: 15.8602 - mae: 2.8524 - val_loss: 30.4006 - val_mae: 3.7550\n",
      "Epoch 96/100\n",
      "404/404 [==============================] - 1s 2ms/step - loss: 16.1310 - mae: 2.9260 - val_loss: 30.6767 - val_mae: 3.7957\n",
      "Epoch 97/100\n",
      "404/404 [==============================] - 1s 2ms/step - loss: 15.2322 - mae: 2.8186 - val_loss: 27.8308 - val_mae: 3.5953\n",
      "Epoch 98/100\n",
      "404/404 [==============================] - 1s 2ms/step - loss: 14.8970 - mae: 2.7993 - val_loss: 33.9775 - val_mae: 4.0821\n",
      "Epoch 99/100\n",
      "404/404 [==============================] - 1s 2ms/step - loss: 14.7995 - mae: 2.7315 - val_loss: 27.4561 - val_mae: 3.5243\n",
      "Epoch 100/100\n",
      "404/404 [==============================] - 1s 2ms/step - loss: 15.6246 - mae: 2.8359 - val_loss: 34.9159 - val_mae: 3.9911\n"
     ]
    }
   ],
   "source": [
    "model= HousePricePredictionModel()\n",
    "history=model.fit(x=train_x,y=train_y,epochs=num_epochs,batch_size=1,verbose=1,validation_data=(test_x,test_y))"
   ]
  },
  {
   "cell_type": "markdown",
   "id": "38aa696b",
   "metadata": {},
   "source": [
    "## Evaluation"
   ]
  },
  {
   "cell_type": "code",
   "execution_count": 11,
   "id": "ddfaa157",
   "metadata": {
    "colab": {
     "base_uri": "https://localhost:8080/"
    },
    "id": "ddfaa157",
    "outputId": "afc6ef74-4520-469f-daf9-8192783b8b87"
   },
   "outputs": [
    {
     "name": "stdout",
     "output_type": "stream",
     "text": [
      "4/4 [==============================] - 0s 4ms/step - loss: 34.9159 - mae: 3.9911\n",
      "Mean squared error on test data:  34.91585159301758\n",
      "Mean absolute error on test data:  3.991065502166748\n"
     ]
    }
   ],
   "source": [
    "mse, mae = model.evaluate(test_x, test_y)\n",
    "print('Mean squared error on test data: ', mse)\n",
    "print('Mean absolute error on test data: ', mae)"
   ]
  }
 ],
 "metadata": {
  "colab": {
   "provenance": []
  },
  "kernelspec": {
   "display_name": "Python 3 (ipykernel)",
   "language": "python",
   "name": "python3"
  },
  "language_info": {
   "codemirror_mode": {
    "name": "ipython",
    "version": 3
   },
   "file_extension": ".py",
   "mimetype": "text/x-python",
   "name": "python",
   "nbconvert_exporter": "python",
   "pygments_lexer": "ipython3",
   "version": "3.10.9"
  }
 },
 "nbformat": 4,
 "nbformat_minor": 5
}
