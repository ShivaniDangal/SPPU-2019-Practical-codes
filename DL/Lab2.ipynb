{
 "cells": [
  {
   "cell_type": "markdown",
   "metadata": {},
   "source": [
    "## Problem Statement:Classification using Deep neural network (Any One from the following)\n",
    "    \n",
    "1. Multiclass classification using Deep Neural Networks: Example: Use the OCR letter\n",
    "recognition datasethttps://archive.ics.uci.edu/ml/datasets/letter+recognition\n",
    "2. Binary classification using Deep Neural Networks Example: Classify movie reviews into\n",
    "positive\" reviews and \"negative\" reviews, just based on the text content of the reviews.\n",
    "Use IMDB dataset"
   ]
  },
  {
   "cell_type": "code",
   "execution_count": null,
   "metadata": {
    "id": "yn9xz9OUFGi1"
   },
   "outputs": [],
   "source": [
    "from keras.datasets import imdb"
   ]
  },
  {
   "cell_type": "markdown",
   "metadata": {},
   "source": [
    "## Load and split the dataset into traning and testing"
   ]
  },
  {
   "cell_type": "code",
   "execution_count": null,
   "metadata": {
    "colab": {
     "base_uri": "https://localhost:8080/"
    },
    "executionInfo": {
     "elapsed": 9853,
     "status": "ok",
     "timestamp": 1685156903430,
     "user": {
      "displayName": "TE_B_52_Siddesh Patankar",
      "userId": "08734077620444832225"
     },
     "user_tz": -330
    },
    "id": "KB1UZItVFXPp",
    "outputId": "99fafa5c-c13c-4ce8-f7d0-56bb87f4c4b3"
   },
   "outputs": [
    {
     "name": "stdout",
     "output_type": "stream",
     "text": [
      "Downloading data from https://storage.googleapis.com/tensorflow/tf-keras-datasets/imdb.npz\n",
      "17464789/17464789 [==============================] - 0s 0us/step\n"
     ]
    }
   ],
   "source": [
    "(train_data,train_labels),(test_data,test_labels)=imdb.load_data(num_words=10000)\n",
    "\n",
    "#x_test = test_data"
   ]
  },
  {
   "cell_type": "code",
   "execution_count": null,
   "metadata": {
    "colab": {
     "base_uri": "https://localhost:8080/"
    },
    "executionInfo": {
     "elapsed": 4,
     "status": "ok",
     "timestamp": 1685156903432,
     "user": {
      "displayName": "TE_B_52_Siddesh Patankar",
      "userId": "08734077620444832225"
     },
     "user_tz": -330
    },
    "id": "BtShX5qhFuum",
    "outputId": "866e4fc8-1f64-447f-bea2-670763753da2"
   },
   "outputs": [
    {
     "data": {
      "text/plain": [
       "(25000,)"
      ]
     },
     "execution_count": 3,
     "metadata": {},
     "output_type": "execute_result"
    }
   ],
   "source": [
    "train_data.shape"
   ]
  },
  {
   "cell_type": "code",
   "execution_count": null,
   "metadata": {
    "colab": {
     "base_uri": "https://localhost:8080/"
    },
    "executionInfo": {
     "elapsed": 14,
     "status": "ok",
     "timestamp": 1685076988451,
     "user": {
      "displayName": "TE_B_52_Siddesh Patankar",
      "userId": "08734077620444832225"
     },
     "user_tz": -330
    },
    "id": "RxeJvAXUFykt",
    "outputId": "03af816e-6c47-49f9-e19f-9134bdbfeb7d"
   },
   "outputs": [
    {
     "data": {
      "text/plain": [
       "1"
      ]
     },
     "execution_count": 5,
     "metadata": {},
     "output_type": "execute_result"
    }
   ],
   "source": [
    "train_labels[0]"
   ]
  },
  {
   "cell_type": "code",
   "execution_count": null,
   "metadata": {
    "colab": {
     "base_uri": "https://localhost:8080/"
    },
    "executionInfo": {
     "elapsed": 528,
     "status": "ok",
     "timestamp": 1685077067971,
     "user": {
      "displayName": "TE_B_52_Siddesh Patankar",
      "userId": "08734077620444832225"
     },
     "user_tz": -330
    },
    "id": "fnEPCzbmF5eY",
    "outputId": "52590e19-734a-4f1c-8de1-04fa52e143c1"
   },
   "outputs": [
    {
     "name": "stdout",
     "output_type": "stream",
     "text": [
      "Downloading data from https://storage.googleapis.com/tensorflow/tf-keras-datasets/imdb_word_index.json\n",
      "1641221/1641221 [==============================] - 0s 0us/step\n"
     ]
    }
   ],
   "source": [
    "word_index=imdb.get_word_index()\n",
    "reverse_word_index=dict([value,key] for (key,value) in word_index.items())\n",
    "decoded_review = ' '.join([reverse_word_index.get(i-3,'?') for i in train_data[0]])"
   ]
  },
  {
   "cell_type": "code",
   "execution_count": null,
   "metadata": {
    "colab": {
     "base_uri": "https://localhost:8080/",
     "height": 109
    },
    "executionInfo": {
     "elapsed": 10,
     "status": "ok",
     "timestamp": 1684944393870,
     "user": {
      "displayName": "TE_B_52_Siddesh Patankar",
      "userId": "08734077620444832225"
     },
     "user_tz": -330
    },
    "id": "fQ49X5nyGoA7",
    "outputId": "2a62f294-b132-469f-dc67-1aa98de14e94"
   },
   "outputs": [
    {
     "data": {
      "application/vnd.google.colaboratory.intrinsic+json": {
       "type": "string"
      },
      "text/plain": [
       "\"? this film was just brilliant casting location scenery story direction everyone's really suited the part they played and you could just imagine being there robert ? is an amazing actor and now the same being director ? father came from the same scottish island as myself so i loved the fact there was a real connection with this film the witty remarks throughout the film were great it was just brilliant so much that i bought the film as soon as it was released for ? and would recommend it to everyone to watch and the fly fishing was amazing really cried at the end it was so sad and you know what they say if you cry at a film it must have been good and this definitely was also ? to the two little boy's that played the ? of norman and paul they were just brilliant children are often left out of the ? list i think because the stars that play them all grown up are such a big profile for the whole film but these children are amazing and should be praised for what they have done don't you think the whole story was so lovely because it was true and was someone's life after all that was shared with us all\""
      ]
     },
     "execution_count": 6,
     "metadata": {},
     "output_type": "execute_result"
    }
   ],
   "source": [
    "decoded_review"
   ]
  },
  {
   "cell_type": "markdown",
   "metadata": {},
   "source": [
    "## Prepare the data"
   ]
  },
  {
   "cell_type": "code",
   "execution_count": null,
   "metadata": {
    "id": "2f25pEG5GuwB"
   },
   "outputs": [],
   "source": [
    "import numpy as np"
   ]
  },
  {
   "cell_type": "code",
   "execution_count": null,
   "metadata": {
    "id": "piWYU01oHBLc"
   },
   "outputs": [],
   "source": [
    "#perform one_hot vector encoding\n",
    "def vectorize(sequences,dimensions=10000):\n",
    "  results = np.zeros((len(sequences),dimensions))\n",
    "  for i, sequences in enumerate(sequences):\n",
    "    results[i,sequences]=1\n",
    "  return results"
   ]
  },
  {
   "cell_type": "code",
   "execution_count": null,
   "metadata": {
    "id": "lbP9MM67Hh3_"
   },
   "outputs": [],
   "source": [
    "x_train=vectorize(train_data)"
   ]
  },
  {
   "cell_type": "code",
   "execution_count": null,
   "metadata": {
    "colab": {
     "base_uri": "https://localhost:8080/"
    },
    "executionInfo": {
     "elapsed": 8,
     "status": "ok",
     "timestamp": 1684944400566,
     "user": {
      "displayName": "TE_B_52_Siddesh Patankar",
      "userId": "08734077620444832225"
     },
     "user_tz": -330
    },
    "id": "W0cHWSJRHy34",
    "outputId": "81183ec8-a344-4253-e62b-46e7a36990e3"
   },
   "outputs": [
    {
     "data": {
      "text/plain": [
       "array([0., 1., 1., ..., 0., 0., 0.])"
      ]
     },
     "execution_count": 10,
     "metadata": {},
     "output_type": "execute_result"
    }
   ],
   "source": [
    "x_train[0]"
   ]
  },
  {
   "cell_type": "code",
   "execution_count": null,
   "metadata": {
    "id": "2-C7M5cOICGv"
   },
   "outputs": [],
   "source": [
    "y_train = np.asarray(train_labels).astype('float32')\n",
    "y_test = np.asarray(test_labels).astype('float32')"
   ]
  },
  {
   "cell_type": "markdown",
   "metadata": {},
   "source": [
    "## Building the network"
   ]
  },
  {
   "cell_type": "code",
   "execution_count": null,
   "metadata": {
    "id": "aDFLDkAxIWhd"
   },
   "outputs": [],
   "source": [
    "from keras import models\n",
    "from keras import layers"
   ]
  },
  {
   "cell_type": "code",
   "execution_count": null,
   "metadata": {
    "id": "r8JOkQO9IfzA"
   },
   "outputs": [],
   "source": [
    "model = models.Sequential()"
   ]
  },
  {
   "cell_type": "code",
   "execution_count": null,
   "metadata": {
    "id": "S0sJGscSInWy"
   },
   "outputs": [],
   "source": [
    "model.add(layers.Dense(16,activation='relu',input_shape=(10000,)))\n",
    "model.add(layers.Dense(16,activation='relu'))\n",
    "model.add(layers.Dense(1,activation = 'sigmoid'))"
   ]
  },
  {
   "cell_type": "code",
   "execution_count": null,
   "metadata": {
    "id": "GywZ4EqiKyea"
   },
   "outputs": [],
   "source": [
    "#compilation step \n",
    "#from keras import util.custom_object_scope\n",
    "model.compile(optimizer='RMSprop',loss='binary_crossentropy',metrics=['accuracy'])"
   ]
  },
  {
   "cell_type": "code",
   "execution_count": null,
   "metadata": {
    "id": "jO6e4iEILJLF"
   },
   "outputs": [],
   "source": [
    "#validating the approach\n",
    "x_val = x_train[:10000]\n",
    "partial_x_train = x_train[10000:]"
   ]
  },
  {
   "cell_type": "code",
   "execution_count": null,
   "metadata": {
    "id": "--7Idbt_La2I"
   },
   "outputs": [],
   "source": [
    "y_val = y_train[:10000]\n",
    "partial_y_train = y_train[10000:]"
   ]
  },
  {
   "cell_type": "code",
   "execution_count": null,
   "metadata": {
    "colab": {
     "base_uri": "https://localhost:8080/"
    },
    "executionInfo": {
     "elapsed": 43312,
     "status": "ok",
     "timestamp": 1684944459815,
     "user": {
      "displayName": "TE_B_52_Siddesh Patankar",
      "userId": "08734077620444832225"
     },
     "user_tz": -330
    },
    "id": "fGiytF1ULgsp",
    "outputId": "bdd16fbc-8a24-4a80-a969-1c6b31dd6780"
   },
   "outputs": [
    {
     "name": "stdout",
     "output_type": "stream",
     "text": [
      "Epoch 1/20\n",
      "30/30 [==============================] - 3s 86ms/step - loss: 0.5624 - accuracy: 0.7721 - val_loss: 0.4421 - val_accuracy: 0.8590\n",
      "Epoch 2/20\n",
      "30/30 [==============================] - 1s 45ms/step - loss: 0.3683 - accuracy: 0.8861 - val_loss: 0.3425 - val_accuracy: 0.8801\n",
      "Epoch 3/20\n",
      "30/30 [==============================] - 2s 56ms/step - loss: 0.2743 - accuracy: 0.9125 - val_loss: 0.3221 - val_accuracy: 0.8684\n",
      "Epoch 4/20\n",
      "30/30 [==============================] - 2s 57ms/step - loss: 0.2168 - accuracy: 0.9261 - val_loss: 0.2776 - val_accuracy: 0.8865\n",
      "Epoch 5/20\n",
      "30/30 [==============================] - 2s 59ms/step - loss: 0.1772 - accuracy: 0.9408 - val_loss: 0.3059 - val_accuracy: 0.8759\n",
      "Epoch 6/20\n",
      "30/30 [==============================] - 2s 77ms/step - loss: 0.1494 - accuracy: 0.9515 - val_loss: 0.2808 - val_accuracy: 0.8850\n",
      "Epoch 7/20\n",
      "30/30 [==============================] - 1s 44ms/step - loss: 0.1305 - accuracy: 0.9592 - val_loss: 0.2923 - val_accuracy: 0.8850\n",
      "Epoch 8/20\n",
      "30/30 [==============================] - 1s 45ms/step - loss: 0.1095 - accuracy: 0.9670 - val_loss: 0.3027 - val_accuracy: 0.8829\n",
      "Epoch 9/20\n",
      "30/30 [==============================] - 2s 56ms/step - loss: 0.0951 - accuracy: 0.9732 - val_loss: 0.3184 - val_accuracy: 0.8825\n",
      "Epoch 10/20\n",
      "30/30 [==============================] - 1s 44ms/step - loss: 0.0829 - accuracy: 0.9778 - val_loss: 0.3367 - val_accuracy: 0.8759\n",
      "Epoch 11/20\n",
      "30/30 [==============================] - 2s 55ms/step - loss: 0.0734 - accuracy: 0.9805 - val_loss: 0.3495 - val_accuracy: 0.8810\n",
      "Epoch 12/20\n",
      "30/30 [==============================] - 1s 45ms/step - loss: 0.0610 - accuracy: 0.9852 - val_loss: 0.4042 - val_accuracy: 0.8698\n",
      "Epoch 13/20\n",
      "30/30 [==============================] - 1s 48ms/step - loss: 0.0504 - accuracy: 0.9896 - val_loss: 0.3841 - val_accuracy: 0.8796\n",
      "Epoch 14/20\n",
      "30/30 [==============================] - 2s 77ms/step - loss: 0.0455 - accuracy: 0.9899 - val_loss: 0.4031 - val_accuracy: 0.8718\n",
      "Epoch 15/20\n",
      "30/30 [==============================] - 2s 51ms/step - loss: 0.0369 - accuracy: 0.9935 - val_loss: 0.4693 - val_accuracy: 0.8622\n",
      "Epoch 16/20\n",
      "30/30 [==============================] - 1s 45ms/step - loss: 0.0318 - accuracy: 0.9938 - val_loss: 0.4472 - val_accuracy: 0.8749\n",
      "Epoch 17/20\n",
      "30/30 [==============================] - 1s 44ms/step - loss: 0.0264 - accuracy: 0.9965 - val_loss: 0.4636 - val_accuracy: 0.8696\n",
      "Epoch 18/20\n",
      "30/30 [==============================] - 1s 46ms/step - loss: 0.0234 - accuracy: 0.9970 - val_loss: 0.4981 - val_accuracy: 0.8717\n",
      "Epoch 19/20\n",
      "30/30 [==============================] - 1s 46ms/step - loss: 0.0186 - accuracy: 0.9977 - val_loss: 0.5122 - val_accuracy: 0.8686\n",
      "Epoch 20/20\n",
      "30/30 [==============================] - 2s 59ms/step - loss: 0.0154 - accuracy: 0.9991 - val_loss: 0.5341 - val_accuracy: 0.8681\n"
     ]
    }
   ],
   "source": [
    "#fit the model\n",
    "history=model.fit(partial_x_train,partial_y_train,epochs=20, batch_size=512, validation_data=(x_val,y_val))"
   ]
  },
  {
   "cell_type": "code",
   "execution_count": null,
   "metadata": {
    "id": "opFsRjGnMHSj"
   },
   "outputs": [],
   "source": [
    "history_dict = history.history"
   ]
  },
  {
   "cell_type": "code",
   "execution_count": null,
   "metadata": {
    "colab": {
     "base_uri": "https://localhost:8080/"
    },
    "executionInfo": {
     "elapsed": 5,
     "status": "ok",
     "timestamp": 1684944468345,
     "user": {
      "displayName": "TE_B_52_Siddesh Patankar",
      "userId": "08734077620444832225"
     },
     "user_tz": -330
    },
    "id": "M2S1B7zZMh2r",
    "outputId": "b4834ca3-05b0-417c-9c1d-39d9fdb4c68d"
   },
   "outputs": [
    {
     "data": {
      "text/plain": [
       "dict_keys(['loss', 'accuracy', 'val_loss', 'val_accuracy'])"
      ]
     },
     "execution_count": 20,
     "metadata": {},
     "output_type": "execute_result"
    }
   ],
   "source": [
    "history_dict.keys()"
   ]
  },
  {
   "cell_type": "code",
   "execution_count": null,
   "metadata": {
    "id": "jxiEsbXLMOxV"
   },
   "outputs": [],
   "source": [
    "acc = history_dict['accuracy']\n",
    "val_loss = history_dict['val_loss']\n",
    "val_acc = history_dict['val_accuracy']\n",
    "loss = history_dict['loss']"
   ]
  },
  {
   "cell_type": "code",
   "execution_count": null,
   "metadata": {
    "colab": {
     "base_uri": "https://localhost:8080/",
     "height": 472
    },
    "executionInfo": {
     "elapsed": 10,
     "status": "ok",
     "timestamp": 1684944475458,
     "user": {
      "displayName": "TE_B_52_Siddesh Patankar",
      "userId": "08734077620444832225"
     },
     "user_tz": -330
    },
    "id": "uL2lsvJgL4e7",
    "outputId": "f9a0c7fb-b0ae-42d4-d18d-1ff8dccb0245"
   },
   "outputs": [
    {
     "data": {
      "image/png": "[encoded data removed]",
      "text/plain": [
       "<Figure size 640x480 with 1 Axes>"
      ]
     },
     "metadata": {},
     "output_type": "display_data"
    }
   ],
   "source": [
    "#plotting training and validation loss\n",
    "import matplotlib.pyplot as plt\n",
    "epochs = range(1, len(acc)+1)\n",
    "plt.plot(epochs, loss, 'bo', label = 'training loss')\n",
    "plt.plot(epochs, val_loss,'b', label = 'validation loss')\n",
    "plt.title('Training and validation loss')\n",
    "plt.xlabel('Epochs')\n",
    "plt.ylabel('Loss')\n",
    "plt.legend()\n",
    "plt.show()"
   ]
  },
  {
   "cell_type": "code",
   "execution_count": null,
   "metadata": {
    "colab": {
     "base_uri": "https://localhost:8080/",
     "height": 490
    },
    "executionInfo": {
     "elapsed": 11,
     "status": "ok",
     "timestamp": 1684944480433,
     "user": {
      "displayName": "TE_B_52_Siddesh Patankar",
      "userId": "08734077620444832225"
     },
     "user_tz": -330
    },
    "id": "WQ3PNwidO9ue",
    "outputId": "b6d6adbe-b454-4476-dd27-27396d373308"
   },
   "outputs": [
    {
     "data": {
      "text/plain": [
       "<matplotlib.legend.Legend at 0x7faf739eda20>"
      ]
     },
     "execution_count": 23,
     "metadata": {},
     "output_type": "execute_result"
    },
    {
     "data": {
      "image/png": "[encoded data removed]",
      "text/plain": [
       "<Figure size 640x480 with 1 Axes>"
      ]
     },
     "metadata": {},
     "output_type": "display_data"
    }
   ],
   "source": [
    "plt.clf()\n",
    "plt.plot(epochs, acc, 'bo',label='Training acc')\n",
    "plt.plot(epochs, val_acc, 'b', label='Validation acc')\n",
    "plt.title('Training and Validation accuracy')\n",
    "plt.xlabel('Epochs')\n",
    "plt.ylabel('Accuracy')\n",
    "plt.legend()"
   ]
  },
  {
   "cell_type": "code",
   "execution_count": null,
   "metadata": {
    "colab": {
     "base_uri": "https://localhost:8080/"
    },
    "executionInfo": {
     "elapsed": 982,
     "status": "ok",
     "timestamp": 1684944485618,
     "user": {
      "displayName": "TE_B_52_Siddesh Patankar",
      "userId": "08734077620444832225"
     },
     "user_tz": -330
    },
    "id": "RXP9smITQEtC",
    "outputId": "35d93cb0-4bb0-4257-dab4-ad9f194bd6a9"
   },
   "outputs": [
    {
     "name": "stdout",
     "output_type": "stream",
     "text": [
      "0.9594466716051102\n"
     ]
    }
   ],
   "source": [
    "import numpy as np\n",
    "#result = model.predict(test_data)\n",
    "print(np.mean(history_dict['accuracy']))\n",
    "#print(history_dict)"
   ]
  }
 ],
 "metadata": {
  "colab": {
   "provenance": []
  },
  "kernelspec": {
   "display_name": "Python 3 (ipykernel)",
   "language": "python",
   "name": "python3"
  },
  "language_info": {
   "codemirror_mode": {
    "name": "ipython",
    "version": 3
   },
   "file_extension": ".py",
   "mimetype": "text/x-python",
   "name": "python",
   "nbconvert_exporter": "python",
   "pygments_lexer": "ipython3",
   "version": "3.10.9"
  }
 },
 "nbformat": 4,
 "nbformat_minor": 1
}
