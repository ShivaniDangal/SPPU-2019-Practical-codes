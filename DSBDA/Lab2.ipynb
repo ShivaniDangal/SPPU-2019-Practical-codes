{
 "cells": [
  {
   "cell_type": "markdown",
   "id": "d3470f3b",
   "metadata": {},
   "source": [
    "###### Problem statement:Data Wrangling II\n",
    "    \n",
    "Create an “Academic performance” dataset of students and perform the following operations using\n",
    "Python.\n",
    "1. Scan all variables for missing values and inconsistencies. If there are missing values and/or\n",
    "inconsistencies, use any of the suitable techniques to deal with them.\n",
    "2. Scan all numeric variables for outliers. If there are outliers, use any of the suitable\n",
    "techniques to deal with them.\n",
    "3. Apply data transformations on at least one of the variables. The purpose of this\n",
    "transformation should be one of the following reasons: to change the scale for better\n",
    "understanding of the variable, to convert a non-linear relation into a linear one, or to\n",
    "decrease the skewness and convert the distribution into a normal distribution. "
   ]
  },
  {
   "cell_type": "code",
   "execution_count": 1,
   "id": "6fb10e82",
   "metadata": {},
   "outputs": [],
   "source": [
    "import pandas as pd"
   ]
  },
  {
   "cell_type": "code",
   "execution_count": 4,
   "id": "4a2903a9",
   "metadata": {},
   "outputs": [
    {
     "name": "stdout",
     "output_type": "stream",
     "text": [
      "      Name  Year1  Year2  Year3  Year4  Total  Percentage\n",
      "0     Arya     70   26.0   89.0   50.0    235       58.75\n",
      "1      Ram     25    NaN   55.0    NaN     80       20.00\n",
      "2    Shyam     60   89.0    NaN   76.0    225       56.25\n",
      "3   Sheela     20   78.0   35.0   68.0    273       68.25\n",
      "4    Meena     38   90.0   76.0   69.0    273       68.25\n",
      "5     Aman     77   80.0   88.0    NaN    245       61.25\n",
      "6    Manav     89   70.0   84.0   45.0    288       72.00\n",
      "7      Tom     91   60.0   39.0   55.0    245       61.25\n",
      "8    Leela     90   50.0   69.0   37.0    246       61.50\n",
      "9    Seema     76   55.0   58.0   28.0    217       54.25\n",
      "10    Zoya     56   34.0   47.0    NaN    137       44.25\n",
      "11   Issac     54   26.0   93.0   98.0    271       67.75\n",
      "12    Jack     24   79.0   65.0   67.0    235       58.75\n",
      "13  Prerna     80   99.0    NaN   44.0    223       55.75\n"
     ]
    }
   ],
   "source": [
    "#create a dataset and load in dataframe(you can create this in excel and save with .csv extension)\n",
    "df= pd.read_csv('Students_performance.csv')\n",
    "print(df)"
   ]
  },
  {
   "cell_type": "code",
   "execution_count": 5,
   "id": "4e1cc142",
   "metadata": {},
   "outputs": [
    {
     "name": "stdout",
     "output_type": "stream",
     "text": [
      "<class 'pandas.core.frame.DataFrame'>\n",
      "RangeIndex: 14 entries, 0 to 13\n",
      "Data columns (total 7 columns):\n",
      " #   Column      Non-Null Count  Dtype  \n",
      "---  ------      --------------  -----  \n",
      " 0   Name        14 non-null     object \n",
      " 1   Year1       14 non-null     int64  \n",
      " 2   Year2       13 non-null     float64\n",
      " 3   Year3       12 non-null     float64\n",
      " 4   Year4       11 non-null     float64\n",
      " 5   Total       14 non-null     int64  \n",
      " 6   Percentage  14 non-null     float64\n",
      "dtypes: float64(4), int64(2), object(1)\n",
      "memory usage: 912.0+ bytes\n"
     ]
    }
   ],
   "source": [
    "df.info()"
   ]
  },
  {
   "cell_type": "code",
   "execution_count": 6,
   "id": "f6dc1910",
   "metadata": {},
   "outputs": [
    {
     "data": {
      "text/html": [
       "<div>\n",
       "<style scoped>\n",
       "    .dataframe tbody tr th:only-of-type {\n",
       "        vertical-align: middle;\n",
       "    }\n",
       "\n",
       "    .dataframe tbody tr th {\n",
       "        vertical-align: top;\n",
       "    }\n",
       "\n",
       "    .dataframe thead th {\n",
       "        text-align: right;\n",
       "    }\n",
       "</style>\n",
       "<table border=\"1\" class=\"dataframe\">\n",
       "  <thead>\n",
       "    <tr style=\"text-align: right;\">\n",
       "      <th></th>\n",
       "      <th>Name</th>\n",
       "      <th>Year1</th>\n",
       "      <th>Year2</th>\n",
       "      <th>Year3</th>\n",
       "      <th>Year4</th>\n",
       "      <th>Total</th>\n",
       "      <th>Percentage</th>\n",
       "    </tr>\n",
       "  </thead>\n",
       "  <tbody>\n",
       "    <tr>\n",
       "      <th>0</th>\n",
       "      <td>False</td>\n",
       "      <td>False</td>\n",
       "      <td>False</td>\n",
       "      <td>False</td>\n",
       "      <td>False</td>\n",
       "      <td>False</td>\n",
       "      <td>False</td>\n",
       "    </tr>\n",
       "    <tr>\n",
       "      <th>1</th>\n",
       "      <td>False</td>\n",
       "      <td>False</td>\n",
       "      <td>True</td>\n",
       "      <td>False</td>\n",
       "      <td>True</td>\n",
       "      <td>False</td>\n",
       "      <td>False</td>\n",
       "    </tr>\n",
       "    <tr>\n",
       "      <th>2</th>\n",
       "      <td>False</td>\n",
       "      <td>False</td>\n",
       "      <td>False</td>\n",
       "      <td>True</td>\n",
       "      <td>False</td>\n",
       "      <td>False</td>\n",
       "      <td>False</td>\n",
       "    </tr>\n",
       "    <tr>\n",
       "      <th>3</th>\n",
       "      <td>False</td>\n",
       "      <td>False</td>\n",
       "      <td>False</td>\n",
       "      <td>False</td>\n",
       "      <td>False</td>\n",
       "      <td>False</td>\n",
       "      <td>False</td>\n",
       "    </tr>\n",
       "    <tr>\n",
       "      <th>4</th>\n",
       "      <td>False</td>\n",
       "      <td>False</td>\n",
       "      <td>False</td>\n",
       "      <td>False</td>\n",
       "      <td>False</td>\n",
       "      <td>False</td>\n",
       "      <td>False</td>\n",
       "    </tr>\n",
       "    <tr>\n",
       "      <th>5</th>\n",
       "      <td>False</td>\n",
       "      <td>False</td>\n",
       "      <td>False</td>\n",
       "      <td>False</td>\n",
       "      <td>True</td>\n",
       "      <td>False</td>\n",
       "      <td>False</td>\n",
       "    </tr>\n",
       "    <tr>\n",
       "      <th>6</th>\n",
       "      <td>False</td>\n",
       "      <td>False</td>\n",
       "      <td>False</td>\n",
       "      <td>False</td>\n",
       "      <td>False</td>\n",
       "      <td>False</td>\n",
       "      <td>False</td>\n",
       "    </tr>\n",
       "    <tr>\n",
       "      <th>7</th>\n",
       "      <td>False</td>\n",
       "      <td>False</td>\n",
       "      <td>False</td>\n",
       "      <td>False</td>\n",
       "      <td>False</td>\n",
       "      <td>False</td>\n",
       "      <td>False</td>\n",
       "    </tr>\n",
       "    <tr>\n",
       "      <th>8</th>\n",
       "      <td>False</td>\n",
       "      <td>False</td>\n",
       "      <td>False</td>\n",
       "      <td>False</td>\n",
       "      <td>False</td>\n",
       "      <td>False</td>\n",
       "      <td>False</td>\n",
       "    </tr>\n",
       "    <tr>\n",
       "      <th>9</th>\n",
       "      <td>False</td>\n",
       "      <td>False</td>\n",
       "      <td>False</td>\n",
       "      <td>False</td>\n",
       "      <td>False</td>\n",
       "      <td>False</td>\n",
       "      <td>False</td>\n",
       "    </tr>\n",
       "    <tr>\n",
       "      <th>10</th>\n",
       "      <td>False</td>\n",
       "      <td>False</td>\n",
       "      <td>False</td>\n",
       "      <td>False</td>\n",
       "      <td>True</td>\n",
       "      <td>False</td>\n",
       "      <td>False</td>\n",
       "    </tr>\n",
       "    <tr>\n",
       "      <th>11</th>\n",
       "      <td>False</td>\n",
       "      <td>False</td>\n",
       "      <td>False</td>\n",
       "      <td>False</td>\n",
       "      <td>False</td>\n",
       "      <td>False</td>\n",
       "      <td>False</td>\n",
       "    </tr>\n",
       "    <tr>\n",
       "      <th>12</th>\n",
       "      <td>False</td>\n",
       "      <td>False</td>\n",
       "      <td>False</td>\n",
       "      <td>False</td>\n",
       "      <td>False</td>\n",
       "      <td>False</td>\n",
       "      <td>False</td>\n",
       "    </tr>\n",
       "    <tr>\n",
       "      <th>13</th>\n",
       "      <td>False</td>\n",
       "      <td>False</td>\n",
       "      <td>False</td>\n",
       "      <td>True</td>\n",
       "      <td>False</td>\n",
       "      <td>False</td>\n",
       "      <td>False</td>\n",
       "    </tr>\n",
       "  </tbody>\n",
       "</table>\n",
       "</div>"
      ],
      "text/plain": [
       "     Name  Year1  Year2  Year3  Year4  Total  Percentage\n",
       "0   False  False  False  False  False  False       False\n",
       "1   False  False   True  False   True  False       False\n",
       "2   False  False  False   True  False  False       False\n",
       "3   False  False  False  False  False  False       False\n",
       "4   False  False  False  False  False  False       False\n",
       "5   False  False  False  False   True  False       False\n",
       "6   False  False  False  False  False  False       False\n",
       "7   False  False  False  False  False  False       False\n",
       "8   False  False  False  False  False  False       False\n",
       "9   False  False  False  False  False  False       False\n",
       "10  False  False  False  False   True  False       False\n",
       "11  False  False  False  False  False  False       False\n",
       "12  False  False  False  False  False  False       False\n",
       "13  False  False  False   True  False  False       False"
      ]
     },
     "execution_count": 6,
     "metadata": {},
     "output_type": "execute_result"
    }
   ],
   "source": [
    "df.isnull()"
   ]
  },
  {
   "cell_type": "code",
   "execution_count": 8,
   "id": "c5240579",
   "metadata": {},
   "outputs": [
    {
     "data": {
      "text/plain": [
       "Name          0\n",
       "Year1         0\n",
       "Year2         1\n",
       "Year3         2\n",
       "Year4         3\n",
       "Total         0\n",
       "Percentage    0\n",
       "dtype: int64"
      ]
     },
     "execution_count": 8,
     "metadata": {},
     "output_type": "execute_result"
    }
   ],
   "source": [
    "#print total values\n",
    "df.isnull().sum()"
   ]
  },
  {
   "cell_type": "code",
   "execution_count": 9,
   "id": "25c113c2",
   "metadata": {},
   "outputs": [],
   "source": [
    "#duplicate dataframe\n",
    "df1= df"
   ]
  },
  {
   "cell_type": "code",
   "execution_count": 10,
   "id": "8ac4dc97",
   "metadata": {},
   "outputs": [],
   "source": [
    "#drop records with null values\n",
    "df1= df1.dropna()"
   ]
  },
  {
   "cell_type": "code",
   "execution_count": 11,
   "id": "aaee37fe",
   "metadata": {},
   "outputs": [
    {
     "name": "stdout",
     "output_type": "stream",
     "text": [
      "      Name  Year1  Year2  Year3  Year4  Total  Percentage\n",
      "0     Arya     70   26.0   89.0   50.0    235       58.75\n",
      "3   Sheela     20   78.0   35.0   68.0    273       68.25\n",
      "4    Meena     38   90.0   76.0   69.0    273       68.25\n",
      "6    Manav     89   70.0   84.0   45.0    288       72.00\n",
      "7      Tom     91   60.0   39.0   55.0    245       61.25\n",
      "8    Leela     90   50.0   69.0   37.0    246       61.50\n",
      "9    Seema     76   55.0   58.0   28.0    217       54.25\n",
      "11   Issac     54   26.0   93.0   98.0    271       67.75\n",
      "12    Jack     24   79.0   65.0   67.0    235       58.75\n"
     ]
    }
   ],
   "source": [
    "print(df1)"
   ]
  },
  {
   "cell_type": "code",
   "execution_count": 14,
   "id": "9880f8e3",
   "metadata": {},
   "outputs": [],
   "source": [
    "#fill places with null values with zero\n",
    "df2 = pd.read_csv('Students_performance.csv')\n",
    "df2.fillna(0, inplace = True)"
   ]
  },
  {
   "cell_type": "code",
   "execution_count": 15,
   "id": "56c2739a",
   "metadata": {},
   "outputs": [
    {
     "name": "stdout",
     "output_type": "stream",
     "text": [
      "      Name  Year1  Year2  Year3  Year4  Total  Percentage\n",
      "0     Arya     70   26.0   89.0   50.0    235       58.75\n",
      "1      Ram     25    0.0   55.0    0.0     80       20.00\n",
      "2    Shyam     60   89.0    0.0   76.0    225       56.25\n",
      "3   Sheela     20   78.0   35.0   68.0    273       68.25\n",
      "4    Meena     38   90.0   76.0   69.0    273       68.25\n",
      "5     Aman     77   80.0   88.0    0.0    245       61.25\n",
      "6    Manav     89   70.0   84.0   45.0    288       72.00\n",
      "7      Tom     91   60.0   39.0   55.0    245       61.25\n",
      "8    Leela     90   50.0   69.0   37.0    246       61.50\n",
      "9    Seema     76   55.0   58.0   28.0    217       54.25\n",
      "10    Zoya     56   34.0   47.0    0.0    137       44.25\n",
      "11   Issac     54   26.0   93.0   98.0    271       67.75\n",
      "12    Jack     24   79.0   65.0   67.0    235       58.75\n",
      "13  Prerna     80   99.0    0.0   44.0    223       55.75\n"
     ]
    }
   ],
   "source": [
    "print(df2)"
   ]
  },
  {
   "cell_type": "code",
   "execution_count": 16,
   "id": "1cf91332",
   "metadata": {},
   "outputs": [],
   "source": [
    "#replace null values with their respective means\n",
    "df3 = pd.read_csv('Students_performance.csv')\n",
    "x = df3[\"Year2\"].mean()\n",
    "df3[\"Year2\"].fillna(x, inplace = True)"
   ]
  },
  {
   "cell_type": "code",
   "execution_count": 17,
   "id": "59590ec6",
   "metadata": {},
   "outputs": [
    {
     "name": "stdout",
     "output_type": "stream",
     "text": [
      "      Name  Year1      Year2  Year3  Year4  Total  Percentage\n",
      "0     Arya     70  26.000000   89.0   50.0    235       58.75\n",
      "1      Ram     25  64.307692   55.0    NaN     80       20.00\n",
      "2    Shyam     60  89.000000    NaN   76.0    225       56.25\n",
      "3   Sheela     20  78.000000   35.0   68.0    273       68.25\n",
      "4    Meena     38  90.000000   76.0   69.0    273       68.25\n",
      "5     Aman     77  80.000000   88.0    NaN    245       61.25\n",
      "6    Manav     89  70.000000   84.0   45.0    288       72.00\n",
      "7      Tom     91  60.000000   39.0   55.0    245       61.25\n",
      "8    Leela     90  50.000000   69.0   37.0    246       61.50\n",
      "9    Seema     76  55.000000   58.0   28.0    217       54.25\n",
      "10    Zoya     56  34.000000   47.0    NaN    137       44.25\n",
      "11   Issac     54  26.000000   93.0   98.0    271       67.75\n",
      "12    Jack     24  79.000000   65.0   67.0    235       58.75\n",
      "13  Prerna     80  99.000000    NaN   44.0    223       55.75\n"
     ]
    }
   ],
   "source": [
    "print(df3)"
   ]
  },
  {
   "cell_type": "code",
   "execution_count": 18,
   "id": "fb63964d",
   "metadata": {},
   "outputs": [],
   "source": [
    "#replace null values with their respective medians\n",
    "df4 = pd.read_csv('Students_performance.csv')\n",
    "x1 = df4[\"Year3\"].median()\n",
    "df4[\"Year3\"].fillna(x1, inplace = True)"
   ]
  },
  {
   "cell_type": "code",
   "execution_count": 19,
   "id": "aab744f9",
   "metadata": {},
   "outputs": [
    {
     "name": "stdout",
     "output_type": "stream",
     "text": [
      "      Name  Year1  Year2  Year3  Year4  Total  Percentage\n",
      "0     Arya     70   26.0   89.0   50.0    235       58.75\n",
      "1      Ram     25    NaN   55.0    NaN     80       20.00\n",
      "2    Shyam     60   89.0   67.0   76.0    225       56.25\n",
      "3   Sheela     20   78.0   35.0   68.0    273       68.25\n",
      "4    Meena     38   90.0   76.0   69.0    273       68.25\n",
      "5     Aman     77   80.0   88.0    NaN    245       61.25\n",
      "6    Manav     89   70.0   84.0   45.0    288       72.00\n",
      "7      Tom     91   60.0   39.0   55.0    245       61.25\n",
      "8    Leela     90   50.0   69.0   37.0    246       61.50\n",
      "9    Seema     76   55.0   58.0   28.0    217       54.25\n",
      "10    Zoya     56   34.0   47.0    NaN    137       44.25\n",
      "11   Issac     54   26.0   93.0   98.0    271       67.75\n",
      "12    Jack     24   79.0   65.0   67.0    235       58.75\n",
      "13  Prerna     80   99.0   67.0   44.0    223       55.75\n"
     ]
    }
   ],
   "source": [
    "print(df4)"
   ]
  },
  {
   "cell_type": "code",
   "execution_count": 20,
   "id": "7b56697f",
   "metadata": {},
   "outputs": [],
   "source": [
    "#replace null values with their respective modes\n",
    "df5 = pd.read_csv('Students_performance.csv')\n",
    "x2 = df5[\"Year4\"].mode()\n",
    "df5[\"Year4\"].fillna(x2, inplace = True)"
   ]
  },
  {
   "cell_type": "code",
   "execution_count": 21,
   "id": "b8e72f91",
   "metadata": {},
   "outputs": [
    {
     "name": "stdout",
     "output_type": "stream",
     "text": [
      "      Name  Year1  Year2  Year3  Year4  Total  Percentage\n",
      "0     Arya     70   26.0   89.0   50.0    235       58.75\n",
      "1      Ram     25    NaN   55.0   37.0     80       20.00\n",
      "2    Shyam     60   89.0    NaN   76.0    225       56.25\n",
      "3   Sheela     20   78.0   35.0   68.0    273       68.25\n",
      "4    Meena     38   90.0   76.0   69.0    273       68.25\n",
      "5     Aman     77   80.0   88.0   55.0    245       61.25\n",
      "6    Manav     89   70.0   84.0   45.0    288       72.00\n",
      "7      Tom     91   60.0   39.0   55.0    245       61.25\n",
      "8    Leela     90   50.0   69.0   37.0    246       61.50\n",
      "9    Seema     76   55.0   58.0   28.0    217       54.25\n",
      "10    Zoya     56   34.0   47.0   98.0    137       44.25\n",
      "11   Issac     54   26.0   93.0   98.0    271       67.75\n",
      "12    Jack     24   79.0   65.0   67.0    235       58.75\n",
      "13  Prerna     80   99.0    NaN   44.0    223       55.75\n"
     ]
    }
   ],
   "source": [
    "print(df5)"
   ]
  },
  {
   "cell_type": "code",
   "execution_count": 25,
   "id": "ede4e282",
   "metadata": {},
   "outputs": [
    {
     "name": "stdout",
     "output_type": "stream",
     "text": [
      "      Name  Year1  Year2  Year3  Year4  Total  Percentage\n",
      "0     Arya     70   26.0   89.0   50.0    235       58.75\n",
      "1      Ram     25    NaN   55.0    NaN     80       20.00\n",
      "2    Shyam     60   89.0    NaN   76.0    225       56.25\n",
      "3   Sheela     20   78.0   35.0  800.0    273       68.25\n",
      "4    Meena    300   90.0   76.0   69.0    273       68.25\n",
      "5     Aman     77   80.0   88.0    NaN    245       61.25\n",
      "6    Manav     89   70.0   84.0   45.0    288       72.00\n",
      "7      Tom     91   60.0  400.0   55.0    245       61.25\n",
      "8    Leela     90   50.0   69.0  850.0    246       61.50\n",
      "9    Seema     76   55.0   58.0   28.0    217       54.25\n",
      "10    Zoya     56  750.0   47.0    NaN    137       44.25\n",
      "11   Issac     54   26.0   93.0   98.0    271       67.75\n",
      "12    Jack    600   79.0   65.0   67.0    235       58.75\n",
      "13  Prerna     80   99.0    NaN   44.0    223       55.75\n"
     ]
    }
   ],
   "source": [
    "#create a dataset consisting of outliers\n",
    "data= pd.read_csv('outliers.csv')\n",
    "print(data)"
   ]
  },
  {
   "cell_type": "markdown",
   "id": "d1bfa24a",
   "metadata": {},
   "source": [
    "# Detect outliers using: Boxplot"
   ]
  },
  {
   "cell_type": "code",
   "execution_count": 43,
   "id": "af62cfc1",
   "metadata": {},
   "outputs": [
    {
     "data": {
      "text/plain": [
       "<Axes: >"
      ]
     },
     "execution_count": 43,
     "metadata": {},
     "output_type": "execute_result"
    },
    {
     "data": {
      "image/png": "[encoded data removed]",
      "text/plain": [
       "<Figure size 640x480 with 1 Axes>"
      ]
     },
     "metadata": {},
     "output_type": "display_data"
    }
   ],
   "source": [
    "#plot boxplot for percentage Year1\n",
    "import seaborn as sns\n",
    "\n",
    "sns.boxplot(data['Year1'])"
   ]
  },
  {
   "cell_type": "code",
   "execution_count": 44,
   "id": "cd8d3e0b",
   "metadata": {},
   "outputs": [
    {
     "name": "stdout",
     "output_type": "stream",
     "text": [
      "(array([ 4, 12]),)\n"
     ]
    }
   ],
   "source": [
    "#print outlier records\n",
    "import numpy as np\n",
    "print(np.where(data['Year1']>200))"
   ]
  },
  {
   "cell_type": "markdown",
   "id": "c13ff39f",
   "metadata": {},
   "source": [
    "# Detect outliers using: Scatterplot"
   ]
  },
  {
   "cell_type": "code",
   "execution_count": 29,
   "id": "369b039d",
   "metadata": {},
   "outputs": [
    {
     "data": {
      "text/plain": [
       "<Axes: xlabel='Total', ylabel='Year1'>"
      ]
     },
     "execution_count": 29,
     "metadata": {},
     "output_type": "execute_result"
    },
    {
     "data": {
      "image/png": "[encoded data removed]",
      "text/plain": [
       "<Figure size 640x480 with 1 Axes>"
      ]
     },
     "metadata": {},
     "output_type": "display_data"
    }
   ],
   "source": [
    "sns.scatterplot(x=data['Total'], y=data['Year1'])"
   ]
  },
  {
   "cell_type": "code",
   "execution_count": 45,
   "id": "e3cfbe47",
   "metadata": {},
   "outputs": [
    {
     "name": "stdout",
     "output_type": "stream",
     "text": [
      "(array([ 4, 12]),)\n"
     ]
    }
   ],
   "source": [
    "#print outliers records\n",
    "print(np.where(data['Year1']>200))"
   ]
  },
  {
   "cell_type": "code",
   "execution_count": 46,
   "id": "8d69d981",
   "metadata": {},
   "outputs": [
    {
     "name": "stdout",
     "output_type": "stream",
     "text": [
      "(array([1]),)\n"
     ]
    }
   ],
   "source": [
    "print(np.where(data['Total']<100))"
   ]
  },
  {
   "cell_type": "code",
   "execution_count": 47,
   "id": "a50d73f7",
   "metadata": {},
   "outputs": [
    {
     "name": "stdout",
     "output_type": "stream",
     "text": [
      "Name           Ram\n",
      "Year1           25\n",
      "Year2          NaN\n",
      "Year3         55.0\n",
      "Year4          NaN\n",
      "Total           80\n",
      "Percentage    20.0\n",
      "Name: 1, dtype: object\n",
      "\n",
      "\n",
      "Name          Meena\n",
      "Year1           300\n",
      "Year2          90.0\n",
      "Year3          76.0\n",
      "Year4          69.0\n",
      "Total           273\n",
      "Percentage    68.25\n",
      "Name: 4, dtype: object\n",
      "\n",
      "\n",
      "Name           Jack\n",
      "Year1           600\n",
      "Year2          79.0\n",
      "Year3          65.0\n",
      "Year4          67.0\n",
      "Total           235\n",
      "Percentage    58.75\n",
      "Name: 12, dtype: object\n",
      "\n",
      "\n"
     ]
    }
   ],
   "source": [
    "#print records 1st, 4th and 12th\n",
    "arr= [1,4,12]\n",
    "for i in range(0,3):\n",
    "    print(data.iloc[arr[i]])\n",
    "    print(\"\\n\")"
   ]
  },
  {
   "cell_type": "markdown",
   "id": "af6d1241",
   "metadata": {},
   "source": [
    "# Detect outliers using: Z-Score"
   ]
  },
  {
   "cell_type": "code",
   "execution_count": 48,
   "id": "f0ac4235",
   "metadata": {},
   "outputs": [
    {
     "data": {
      "text/plain": [
       "0    -0.342929\n",
       "1    -0.648078\n",
       "2    -0.410740\n",
       "3    -0.681984\n",
       "4     1.216721\n",
       "5    -0.295462\n",
       "6    -0.214089\n",
       "7    -0.200526\n",
       "8    -0.207308\n",
       "9    -0.302243\n",
       "10   -0.437864\n",
       "11   -0.451427\n",
       "12    3.251047\n",
       "13   -0.275118\n",
       "Name: Year1, dtype: float64"
      ]
     },
     "execution_count": 48,
     "metadata": {},
     "output_type": "execute_result"
    }
   ],
   "source": [
    "#normalize data in column 'Year1'\n",
    "import scipy.stats as stats\n",
    "\n",
    "stats.zscore(data['Year1'])"
   ]
  },
  {
   "cell_type": "code",
   "execution_count": 49,
   "id": "a7b6d58c",
   "metadata": {},
   "outputs": [
    {
     "name": "stdout",
     "output_type": "stream",
     "text": [
      "(array([ 4, 12]),)\n"
     ]
    }
   ],
   "source": [
    "print(np.where(stats.zscore(data['Year1'])>1))"
   ]
  },
  {
   "cell_type": "markdown",
   "id": "6045143a",
   "metadata": {},
   "source": [
    "# Detect outliers using: Interquartile range"
   ]
  },
  {
   "cell_type": "code",
   "execution_count": 50,
   "id": "4009bd9e",
   "metadata": {},
   "outputs": [],
   "source": [
    "q1= data['Year1'].quantile(0.25)\n",
    "q2= data['Year1'].quantile(0.50)\n",
    "q3= data['Year1'].quantile(0.75)\n",
    "IQR= q3-q1\n",
    "ul= q3+(1.5*IQR)\n",
    "ll= q3-(1.5*IQR)"
   ]
  },
  {
   "cell_type": "code",
   "execution_count": 51,
   "id": "51374037",
   "metadata": {},
   "outputs": [
    {
     "name": "stdout",
     "output_type": "stream",
     "text": [
      "(array([ 4, 12]),)\n"
     ]
    }
   ],
   "source": [
    "print(np.where(data['Year1']>ul))"
   ]
  },
  {
   "cell_type": "code",
   "execution_count": 52,
   "id": "df7ff5e5",
   "metadata": {},
   "outputs": [
    {
     "name": "stdout",
     "output_type": "stream",
     "text": [
      "Name          Meena\n",
      "Year1           300\n",
      "Year2          90.0\n",
      "Year3          76.0\n",
      "Year4          69.0\n",
      "Total           273\n",
      "Percentage    68.25\n",
      "Name: 4, dtype: object\n",
      "\n",
      "\n",
      "Name           Jack\n",
      "Year1           600\n",
      "Year2          79.0\n",
      "Year3          65.0\n",
      "Year4          67.0\n",
      "Total           235\n",
      "Percentage    58.75\n",
      "Name: 12, dtype: object\n",
      "\n",
      "\n"
     ]
    }
   ],
   "source": [
    "arr= [4,12]\n",
    "for i in range(0,2):\n",
    "    print(data.iloc[arr[i]])\n",
    "    print(\"\\n\")"
   ]
  },
  {
   "cell_type": "code",
   "execution_count": 53,
   "id": "df615727",
   "metadata": {},
   "outputs": [
    {
     "name": "stdout",
     "output_type": "stream",
     "text": [
      "      Name  Year1  Year2  Year3  Year4  Total  Percentage\n",
      "0     Arya     70   26.0   89.0   50.0    235       58.75\n",
      "1      Ram     25    NaN   55.0    NaN     80       20.00\n",
      "2    Shyam     60   89.0    NaN   76.0    225       56.25\n",
      "3   Sheela     20   78.0   35.0  800.0    273       68.25\n",
      "5     Aman     77   80.0   88.0    NaN    245       61.25\n",
      "6    Manav     89   70.0   84.0   45.0    288       72.00\n",
      "7      Tom     91   60.0  400.0   55.0    245       61.25\n",
      "8    Leela     90   50.0   69.0  850.0    246       61.50\n",
      "9    Seema     76   55.0   58.0   28.0    217       54.25\n",
      "10    Zoya     56  750.0   47.0    NaN    137       44.25\n",
      "11   Issac     54   26.0   93.0   98.0    271       67.75\n",
      "13  Prerna     80   99.0    NaN   44.0    223       55.75\n"
     ]
    }
   ],
   "source": [
    "#drop records with outliers\n",
    "arr= [4, 12]\n",
    "for i in range(0,2):\n",
    "    data= data.drop(arr[i])\n",
    "    \n",
    "print(data)"
   ]
  },
  {
   "cell_type": "code",
   "execution_count": 54,
   "id": "de327219",
   "metadata": {},
   "outputs": [
    {
     "name": "stdout",
     "output_type": "stream",
     "text": [
      "      Name  Year1  Year2  Year3  Year4  Total  Percentage\n",
      "0     Arya     70   26.0   89.0   50.0    235       58.75\n",
      "1      Ram     25    NaN   55.0    NaN     80       20.00\n",
      "2    Shyam     60   89.0    NaN   76.0    225       56.25\n",
      "3   Sheela     20   78.0   35.0  800.0    273       68.25\n",
      "4    Meena    300   90.0   76.0   69.0    273       68.25\n",
      "5     Aman     77   80.0   88.0    NaN    245       61.25\n",
      "6    Manav     89   70.0   84.0   45.0    288       72.00\n",
      "7      Tom     91   60.0  400.0   55.0    245       61.25\n",
      "8    Leela     90   50.0   69.0  850.0    246       61.50\n",
      "9    Seema     76   55.0   58.0   28.0    217       54.25\n",
      "10    Zoya     56  750.0   47.0    NaN    137       44.25\n",
      "11   Issac     54   26.0   93.0   98.0    271       67.75\n",
      "12    Jack    600   79.0   65.0   67.0    235       58.75\n",
      "13  Prerna     80   99.0    NaN   44.0    223       55.75\n"
     ]
    }
   ],
   "source": [
    "dat= pd.read_csv('outliers.csv')\n",
    "print(dat)"
   ]
  },
  {
   "cell_type": "markdown",
   "id": "78d25388",
   "metadata": {},
   "source": [
    "# Data Transformation"
   ]
  },
  {
   "cell_type": "code",
   "execution_count": 55,
   "id": "22af3b5d",
   "metadata": {},
   "outputs": [],
   "source": [
    "#replace values of Total column with their respective z-scores\n",
    "dat[\"Total\"] = (dat[\"Total\"] - dat[\"Total\"].mean()) / dat[\"Total\"].std()"
   ]
  },
  {
   "cell_type": "code",
   "execution_count": 56,
   "id": "288b15f4",
   "metadata": {},
   "outputs": [
    {
     "name": "stdout",
     "output_type": "stream",
     "text": [
      "      Name  Year1  Year2  Year3  Year4     Total  Percentage\n",
      "0     Arya     70   26.0   89.0   50.0  0.123617       58.75\n",
      "1      Ram     25    NaN   55.0    NaN -2.641836       20.00\n",
      "2    Shyam     60   89.0    NaN   76.0 -0.054799       56.25\n",
      "3   Sheela     20   78.0   35.0  800.0  0.801599       68.25\n",
      "4    Meena    300   90.0   76.0   69.0  0.801599       68.25\n",
      "5     Aman     77   80.0   88.0    NaN  0.302033       61.25\n",
      "6    Manav     89   70.0   84.0   45.0  1.069223       72.00\n",
      "7      Tom     91   60.0  400.0   55.0  0.302033       61.25\n",
      "8    Leela     90   50.0   69.0  850.0  0.319875       61.50\n",
      "9    Seema     76   55.0   58.0   28.0 -0.197532       54.25\n",
      "10    Zoya     56  750.0   47.0    NaN -1.624863       44.25\n",
      "11   Issac     54   26.0   93.0   98.0  0.765916       67.75\n",
      "12    Jack    600   79.0   65.0   67.0  0.123617       58.75\n",
      "13  Prerna     80   99.0    NaN   44.0 -0.090483       55.75\n"
     ]
    }
   ],
   "source": [
    "print(dat)"
   ]
  },
  {
   "cell_type": "code",
   "execution_count": 57,
   "id": "02c504d6",
   "metadata": {},
   "outputs": [],
   "source": [
    "#apply minmaxscaler to column Total\n",
    "dat1= pd.read_csv('outliers.csv')\n",
    "from sklearn.preprocessing import MinMaxScaler\n",
    "\n",
    "scaler = MinMaxScaler()\n",
    "dat1[[\"Total\"]] = scaler.fit_transform(dat1[[\"Total\"]])\n"
   ]
  },
  {
   "cell_type": "code",
   "execution_count": 58,
   "id": "a4a10d88",
   "metadata": {},
   "outputs": [
    {
     "name": "stdout",
     "output_type": "stream",
     "text": [
      "      Name  Year1  Year2  Year3  Year4  Total  Percentage\n",
      "0     Arya     70   26.0   89.0   50.0    235       58.75\n",
      "1      Ram     25    NaN   55.0    NaN     80       20.00\n",
      "2    Shyam     60   89.0    NaN   76.0    225       56.25\n",
      "3   Sheela     20   78.0   35.0  800.0    273       68.25\n",
      "4    Meena    300   90.0   76.0   69.0    273       68.25\n",
      "5     Aman     77   80.0   88.0    NaN    245       61.25\n",
      "6    Manav     89   70.0   84.0   45.0    288       72.00\n",
      "7      Tom     91   60.0  400.0   55.0    245       61.25\n",
      "8    Leela     90   50.0   69.0  850.0    246       61.50\n",
      "9    Seema     76   55.0   58.0   28.0    217       54.25\n",
      "10    Zoya     56  750.0   47.0    NaN    137       44.25\n",
      "11   Issac     54   26.0   93.0   98.0    271       67.75\n",
      "12    Jack    600   79.0   65.0   67.0    235       58.75\n",
      "13  Prerna     80   99.0    NaN   44.0    223       55.75\n"
     ]
    }
   ],
   "source": [
    "dat2= pd.read_csv('outliers.csv')\n",
    "print(dat2)\n",
    "max_b = str(int(dat2[\"Total\"].max()))\n",
    "dat2[\"Total\"] = df[\"Total\"]/(10**len(max_b))"
   ]
  },
  {
   "cell_type": "code",
   "execution_count": 59,
   "id": "98cfe402",
   "metadata": {},
   "outputs": [
    {
     "name": "stdout",
     "output_type": "stream",
     "text": [
      "      Name  Year1  Year2  Year3  Year4  Total  Percentage\n",
      "0     Arya     70   26.0   89.0   50.0  0.235       58.75\n",
      "1      Ram     25    NaN   55.0    NaN  0.080       20.00\n",
      "2    Shyam     60   89.0    NaN   76.0  0.225       56.25\n",
      "3   Sheela     20   78.0   35.0  800.0  0.273       68.25\n",
      "4    Meena    300   90.0   76.0   69.0  0.273       68.25\n",
      "5     Aman     77   80.0   88.0    NaN  0.245       61.25\n",
      "6    Manav     89   70.0   84.0   45.0  0.288       72.00\n",
      "7      Tom     91   60.0  400.0   55.0  0.245       61.25\n",
      "8    Leela     90   50.0   69.0  850.0  0.246       61.50\n",
      "9    Seema     76   55.0   58.0   28.0  0.217       54.25\n",
      "10    Zoya     56  750.0   47.0    NaN  0.137       44.25\n",
      "11   Issac     54   26.0   93.0   98.0  0.271       67.75\n",
      "12    Jack    600   79.0   65.0   67.0  0.235       58.75\n",
      "13  Prerna     80   99.0    NaN   44.0  0.223       55.75\n"
     ]
    }
   ],
   "source": [
    "print(dat2)"
   ]
  }
 ],
 "metadata": {
  "kernelspec": {
   "display_name": "Python 3 (ipykernel)",
   "language": "python",
   "name": "python3"
  },
  "language_info": {
   "codemirror_mode": {
    "name": "ipython",
    "version": 3
   },
   "file_extension": ".py",
   "mimetype": "text/x-python",
   "name": "python",
   "nbconvert_exporter": "python",
   "pygments_lexer": "ipython3",
   "version": "3.10.9"
  }
 },
 "nbformat": 4,
 "nbformat_minor": 5
}
