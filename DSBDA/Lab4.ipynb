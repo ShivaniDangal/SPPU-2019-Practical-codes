{
 "cells": [
  {
   "cell_type": "markdown",
   "id": "17cb192c",
   "metadata": {},
   "source": [
    "###### Problem Statement: Data Analytics I\n",
    "    \n",
    "Create a Linear Regression Model using Python/R to predict home prices using Boston Housing\n",
    "Dataset (https://www.kaggle.com/c/boston-housing). The Boston Housing dataset contains\n",
    "information about various houses in Boston through different parameters. There are 506 samples\n",
    "and 14 feature variables in this dataset."
   ]
  },
  {
   "cell_type": "code",
   "execution_count": 1,
   "id": "574a1714",
   "metadata": {},
   "outputs": [],
   "source": [
    "#import python libaraies\n",
    "import pandas as pd\n",
    "from sklearn.linear_model import LinearRegression"
   ]
  },
  {
   "cell_type": "code",
   "execution_count": 2,
   "id": "e44c3bf3",
   "metadata": {},
   "outputs": [
    {
     "name": "stdout",
     "output_type": "stream",
     "text": [
      "     Unnamed: 0     crim    zn  indus  chas    nox     rm   age     dis  rad  \\\n",
      "0             1  0.00632  18.0   2.31     0  0.538  6.575  65.2  4.0900    1   \n",
      "1             2  0.02731   0.0   7.07     0  0.469  6.421  78.9  4.9671    2   \n",
      "2             3  0.02729   0.0   7.07     0  0.469  7.185  61.1  4.9671    2   \n",
      "3             4  0.03237   0.0   2.18     0  0.458  6.998  45.8  6.0622    3   \n",
      "4             5  0.06905   0.0   2.18     0  0.458  7.147  54.2  6.0622    3   \n",
      "..          ...      ...   ...    ...   ...    ...    ...   ...     ...  ...   \n",
      "501         502  0.06263   0.0  11.93     0  0.573  6.593  69.1  2.4786    1   \n",
      "502         503  0.04527   0.0  11.93     0  0.573  6.120  76.7  2.2875    1   \n",
      "503         504  0.06076   0.0  11.93     0  0.573  6.976  91.0  2.1675    1   \n",
      "504         505  0.10959   0.0  11.93     0  0.573  6.794  89.3  2.3889    1   \n",
      "505         506  0.04741   0.0  11.93     0  0.573  6.030  80.8  2.5050    1   \n",
      "\n",
      "     tax  ptratio   black  lstat  medv  \n",
      "0    296     15.3  396.90   4.98  24.0  \n",
      "1    242     17.8  396.90   9.14  21.6  \n",
      "2    242     17.8  392.83   4.03  34.7  \n",
      "3    222     18.7  394.63   2.94  33.4  \n",
      "4    222     18.7  396.90   5.33  36.2  \n",
      "..   ...      ...     ...    ...   ...  \n",
      "501  273     21.0  391.99   9.67  22.4  \n",
      "502  273     21.0  396.90   9.08  20.6  \n",
      "503  273     21.0  396.90   5.64  23.9  \n",
      "504  273     21.0  393.45   6.48  22.0  \n",
      "505  273     21.0  396.90   7.88  11.9  \n",
      "\n",
      "[506 rows x 15 columns]\n"
     ]
    }
   ],
   "source": [
    "#load dataset\n",
    "df= pd.read_csv('Boston.csv')\n",
    "print(df)"
   ]
  },
  {
   "cell_type": "markdown",
   "id": "96f456b6",
   "metadata": {},
   "source": [
    "##### Create training and testing datasets"
   ]
  },
  {
   "cell_type": "code",
   "execution_count": 3,
   "id": "46c44fae",
   "metadata": {},
   "outputs": [],
   "source": [
    "from sklearn.model_selection import train_test_split"
   ]
  },
  {
   "cell_type": "code",
   "execution_count": 7,
   "id": "7509aac1",
   "metadata": {},
   "outputs": [],
   "source": [
    "#drop medv column for training(value to be predicted)\n",
    "x= df.drop(\"medv\", axis='columns')"
   ]
  },
  {
   "cell_type": "code",
   "execution_count": 8,
   "id": "5b274c2b",
   "metadata": {},
   "outputs": [],
   "source": [
    "#variable y represents medv column\n",
    "y=df.medv"
   ]
  },
  {
   "cell_type": "code",
   "execution_count": 9,
   "id": "f162cbd4",
   "metadata": {},
   "outputs": [],
   "source": [
    "#split the dataset as training x(independent variables) and y(dependent variables) & testing x and y using train_test_split\n",
    "X_train, X_test, y_train, y_test= train_test_split(x,y,test_size=0.2, random_state=0)"
   ]
  },
  {
   "cell_type": "markdown",
   "id": "967f5dc0",
   "metadata": {},
   "source": [
    "##### Train linear regression model"
   ]
  },
  {
   "cell_type": "code",
   "execution_count": 10,
   "id": "4feebb89",
   "metadata": {},
   "outputs": [
    {
     "data": {
      "text/html": [
       "<style>#sk-container-id-1 {color: black;background-color: white;}#sk-container-id-1 pre{padding: 0;}#sk-container-id-1 div.sk-toggleable {background-color: white;}#sk-container-id-1 label.sk-toggleable__label {cursor: pointer;display: block;width: 100%;margin-bottom: 0;padding: 0.3em;box-sizing: border-box;text-align: center;}#sk-container-id-1 label.sk-toggleable__label-arrow:before {content: \"▸\";float: left;margin-right: 0.25em;color: #696969;}#sk-container-id-1 label.sk-toggleable__label-arrow:hover:before {color: black;}#sk-container-id-1 div.sk-estimator:hover label.sk-toggleable__label-arrow:before {color: black;}#sk-container-id-1 div.sk-toggleable__content {max-height: 0;max-width: 0;overflow: hidden;text-align: left;background-color: #f0f8ff;}#sk-container-id-1 div.sk-toggleable__content pre {margin: 0.2em;color: black;border-radius: 0.25em;background-color: #f0f8ff;}#sk-container-id-1 input.sk-toggleable__control:checked~div.sk-toggleable__content {max-height: 200px;max-width: 100%;overflow: auto;}#sk-container-id-1 input.sk-toggleable__control:checked~label.sk-toggleable__label-arrow:before {content: \"▾\";}#sk-container-id-1 div.sk-estimator input.sk-toggleable__control:checked~label.sk-toggleable__label {background-color: #d4ebff;}#sk-container-id-1 div.sk-label input.sk-toggleable__control:checked~label.sk-toggleable__label {background-color: #d4ebff;}#sk-container-id-1 input.sk-hidden--visually {border: 0;clip: rect(1px 1px 1px 1px);clip: rect(1px, 1px, 1px, 1px);height: 1px;margin: -1px;overflow: hidden;padding: 0;position: absolute;width: 1px;}#sk-container-id-1 div.sk-estimator {font-family: monospace;background-color: #f0f8ff;border: 1px dotted black;border-radius: 0.25em;box-sizing: border-box;margin-bottom: 0.5em;}#sk-container-id-1 div.sk-estimator:hover {background-color: #d4ebff;}#sk-container-id-1 div.sk-parallel-item::after {content: \"\";width: 100%;border-bottom: 1px solid gray;flex-grow: 1;}#sk-container-id-1 div.sk-label:hover label.sk-toggleable__label {background-color: #d4ebff;}#sk-container-id-1 div.sk-serial::before {content: \"\";position: absolute;border-left: 1px solid gray;box-sizing: border-box;top: 0;bottom: 0;left: 50%;z-index: 0;}#sk-container-id-1 div.sk-serial {display: flex;flex-direction: column;align-items: center;background-color: white;padding-right: 0.2em;padding-left: 0.2em;position: relative;}#sk-container-id-1 div.sk-item {position: relative;z-index: 1;}#sk-container-id-1 div.sk-parallel {display: flex;align-items: stretch;justify-content: center;background-color: white;position: relative;}#sk-container-id-1 div.sk-item::before, #sk-container-id-1 div.sk-parallel-item::before {content: \"\";position: absolute;border-left: 1px solid gray;box-sizing: border-box;top: 0;bottom: 0;left: 50%;z-index: -1;}#sk-container-id-1 div.sk-parallel-item {display: flex;flex-direction: column;z-index: 1;position: relative;background-color: white;}#sk-container-id-1 div.sk-parallel-item:first-child::after {align-self: flex-end;width: 50%;}#sk-container-id-1 div.sk-parallel-item:last-child::after {align-self: flex-start;width: 50%;}#sk-container-id-1 div.sk-parallel-item:only-child::after {width: 0;}#sk-container-id-1 div.sk-dashed-wrapped {border: 1px dashed gray;margin: 0 0.4em 0.5em 0.4em;box-sizing: border-box;padding-bottom: 0.4em;background-color: white;}#sk-container-id-1 div.sk-label label {font-family: monospace;font-weight: bold;display: inline-block;line-height: 1.2em;}#sk-container-id-1 div.sk-label-container {text-align: center;}#sk-container-id-1 div.sk-container {/* jupyter's `normalize.less` sets `[hidden] { display: none; }` but bootstrap.min.css set `[hidden] { display: none !important; }` so we also need the `!important` here to be able to override the default hidden behavior on the sphinx rendered scikit-learn.org. See: https://github.com/scikit-learn/scikit-learn/issues/21755 */display: inline-block !important;position: relative;}#sk-container-id-1 div.sk-text-repr-fallback {display: none;}</style><div id=\"sk-container-id-1\" class=\"sk-top-container\"><div class=\"sk-text-repr-fallback\"><pre>LinearRegression()</pre><b>In a Jupyter environment, please rerun this cell to show the HTML representation or trust the notebook. <br />On GitHub, the HTML representation is unable to render, please try loading this page with nbviewer.org.</b></div><div class=\"sk-container\" hidden><div class=\"sk-item\"><div class=\"sk-estimator sk-toggleable\"><input class=\"sk-toggleable__control sk-hidden--visually\" id=\"sk-estimator-id-1\" type=\"checkbox\" checked><label for=\"sk-estimator-id-1\" class=\"sk-toggleable__label sk-toggleable__label-arrow\">LinearRegression</label><div class=\"sk-toggleable__content\"><pre>LinearRegression()</pre></div></div></div></div></div>"
      ],
      "text/plain": [
       "LinearRegression()"
      ]
     },
     "execution_count": 10,
     "metadata": {},
     "output_type": "execute_result"
    }
   ],
   "source": [
    "reg= LinearRegression()\n",
    "reg.fit(X_train, y_train)"
   ]
  },
  {
   "cell_type": "markdown",
   "id": "89e6c444",
   "metadata": {},
   "source": [
    "##### Perform testing by predicting values for house price"
   ]
  },
  {
   "cell_type": "code",
   "execution_count": 11,
   "id": "e510a799",
   "metadata": {},
   "outputs": [],
   "source": [
    "y_pred= reg.predict(X_test)"
   ]
  },
  {
   "cell_type": "code",
   "execution_count": 12,
   "id": "4f738017",
   "metadata": {},
   "outputs": [
    {
     "name": "stdout",
     "output_type": "stream",
     "text": [
      "[24.74070851 23.80425049 29.28158723 12.12272669 21.62544501 19.53672919\n",
      " 20.41968384 21.07907383 18.71561373 20.09106627  5.0743656  16.39199315\n",
      " 17.04586558  5.59756086 40.1004106  32.44594537 22.37310101 36.90219137\n",
      " 30.92296454 23.38467089 24.56769934 24.68964766 20.74869698 30.26277533\n",
      " 22.5727197  10.26862735 17.85459566 18.35674777 35.63890106 21.10275378\n",
      " 18.19893242 17.74077459 19.8424078  23.9617786  29.10081048 19.4061865\n",
      " 11.16022961 24.69300159 17.57248617 15.3845642  26.02409131 21.01278459\n",
      " 22.13029338 15.48998891 22.73582152 25.34879667 19.85072994 23.01557869\n",
      " 10.10805363 24.46214312 21.07023089 16.9730934  24.46656588 29.93880071\n",
      " 13.52902169 21.98895501 20.5438668  15.18210672 13.9690285  22.08542847\n",
      " 17.53668953 21.36714506 32.83463582 31.14026148 17.67033113 32.885481\n",
      " 18.66904252 19.97300004 19.04270401 22.8776712  23.13463054 24.23509302\n",
      " 31.03109557 28.71190655 25.81441888  5.25041941 36.70886193 23.71435316\n",
      " 27.36980324 18.86482312 28.57245316 19.29974173 18.98579437 37.82583335\n",
      " 39.22211296 23.51154587 25.00324755 15.90248952 26.19162776 16.74545955\n",
      " 16.15310519 13.09108813 24.6248255  31.14802445 21.62649138 20.1834432\n",
      "  0.59706015 25.68189528 15.53547733 18.11748268 25.27099258 22.51374095]\n"
     ]
    }
   ],
   "source": [
    "print(y_pred)"
   ]
  },
  {
   "cell_type": "markdown",
   "id": "8ae5fb3d",
   "metadata": {},
   "source": [
    "##### Check accuracy of the model"
   ]
  },
  {
   "cell_type": "code",
   "execution_count": 13,
   "id": "38b70b16",
   "metadata": {},
   "outputs": [],
   "source": [
    "from sklearn.metrics import mean_squared_error\n",
    "import numpy as np"
   ]
  },
  {
   "cell_type": "code",
   "execution_count": 15,
   "id": "2cc06f41",
   "metadata": {},
   "outputs": [],
   "source": [
    "#Mean Squared Error\n",
    "MSE = np.square(np.subtract(y_test,y_pred)).mean()"
   ]
  },
  {
   "cell_type": "code",
   "execution_count": 16,
   "id": "df839fb9",
   "metadata": {},
   "outputs": [
    {
     "data": {
      "text/plain": [
       "33.26696145923908"
      ]
     },
     "execution_count": 16,
     "metadata": {},
     "output_type": "execute_result"
    }
   ],
   "source": [
    "MSE"
   ]
  },
  {
   "cell_type": "code",
   "execution_count": 17,
   "id": "3c974824",
   "metadata": {},
   "outputs": [],
   "source": [
    "#comparision of predicted and actual values using scatterplot\n",
    "import seaborn as sns"
   ]
  },
  {
   "cell_type": "code",
   "execution_count": 18,
   "id": "b1ef7409",
   "metadata": {},
   "outputs": [
    {
     "data": {
      "text/plain": [
       "<Axes: ylabel='medv'>"
      ]
     },
     "execution_count": 18,
     "metadata": {},
     "output_type": "execute_result"
    },
    {
     "data": {
      "image/png": "[encoded data removed]",
      "text/plain": [
       "<Figure size 640x480 with 1 Axes>"
      ]
     },
     "metadata": {},
     "output_type": "display_data"
    }
   ],
   "source": [
    "sns.scatterplot(x=y_pred, y=y_test)"
   ]
  }
 ],
 "metadata": {
  "kernelspec": {
   "display_name": "Python 3 (ipykernel)",
   "language": "python",
   "name": "python3"
  },
  "language_info": {
   "codemirror_mode": {
    "name": "ipython",
    "version": 3
   },
   "file_extension": ".py",
   "mimetype": "text/x-python",
   "name": "python",
   "nbconvert_exporter": "python",
   "pygments_lexer": "ipython3",
   "version": "3.10.9"
  }
 },
 "nbformat": 4,
 "nbformat_minor": 5
}
